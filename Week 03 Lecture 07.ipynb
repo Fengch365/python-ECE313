{
 "cells": [
  {
   "cell_type": "markdown",
   "metadata": {},
   "source": [
    "$\n",
    "\\textbf{Variance and Standard Deviation}\\\\ \\ \\\\\n",
    "\\text{The}\\ \\textbf{variance}\\ \\text{describes the expected distance (squared) a variable will be from its average:}\\\\\n",
    "\\ \\ \\ \\ \\text{Var}(X) = E[(X-E[X])^2]\\\\\n",
    "\\ \\ \\ \\ \\textbf{Properties:}\\\\\n",
    "\\ \\ \\ \\ \\ \\ \\ \\ \\bullet \\text{Var}(aX+b) = \\text{Var}(aX) = a^2 \\text{Var}(X)\\\\\n",
    "\\ \\ \\ \\ \\ \\ \\ \\ \\ \\ \\ \\text{Var}(Y) = E[(aX+b - E[aX+b])^2] = E[(aX+b - (E[aX]+b))^2] = E[(aX - E[aX])^2] = a^2E[(X-E[X])^2]= a^2 \\text{Var}(X)\\\\\n",
    "\\ \\ \\ \\ \\ \\ \\ \\ \\bullet \\text{Var}(X) = E[(X-E[X])^2] = E[X^2 - 2XE[X] + E[X]^2] = E[X^2] - 2E[X]E[X] + E[X]^2 = E[X^2] - E[X]^2\\\\\n",
    "\\ \\ \\ \\ \\ \\ \\ \\ \\ \\ \\ E[X^2] = \\sum_x x^2 p_X(x)\\\\\n",
    "\\ \\ \\ \\ \\ \\ \\ \\ \\ \\ \\ E[X]^2 = [\\sum_x x p_X(x)]^2\\\\\n",
    "\\ \\ \\ \\ \\ \\ \\ \\ \\bullet E[X^k]\\ \\text{is called the $k^{th}$ moment of $X$.}\\\\ \\ \\\\\n",
    "\\text{The}\\ \\textbf{standard deviation}\\ \\text{is the square root of the variance:}\\\\\n",
    "\\ \\ \\ \\ \\sigma_X = \\sqrt{\\text{Var}(X)}\\ \\text{(Note, $\\sigma_X$ has the same units as $X$)}\\\\ \\ \\\\\n",
    "\\textbf{Example 1:}\\\\\n",
    "\\text{Suppose four people write their names on slips of paper; the slips of paper are randomly shuffled}\\\\\n",
    "\\text{and then each person gets back one slip of paper; all possibilities of who gets what slip are equally likely.}\\\\\n",
    "\\text{Let $X$ denote the number of people who get back the slip with their own name (i.e. the number of matches).}\\\\\n",
    "\\ \\ \\ \\ \\text{Compute}\\ E[X]\\ \\text{and}\\ \\text{Var}(X).\\\\\n",
    "\\ \\ \\ \\ \\text{Range of}\\ X = \\{0,1,2,3,4\\}\\\\\n",
    "\\ \\ \\ \\ p_X(4) = \\frac{1}{4!} = \\frac{1}{24}\\\\\n",
    "\\ \\ \\ \\ p_X(3) = \\frac{0}{4!} = 0\\ \\text{(Three matches is impossible)}\\\\\n",
    "\\ \\ \\ \\ p_X(2) = \\frac{\\binom{4}{2}}{4!} = \\frac{1}{4}\\\\\n",
    "\\ \\ \\ \\ p_X(1) = \\frac{2\\times \\binom{4}{1}}{4!} = \\frac{1}{3}\\\\\n",
    "\\ \\ \\ \\ p_X(0) = \\frac{3\\times 3}{4!} = \\frac{3}{8}\\\\\n",
    "\\ \\ \\ \\ E[X] = 4 \\times \\frac{1}{24} + 2 \\times \\frac{1}{4} + 1 \\times \\frac{1}{3} = 1\\\\\n",
    "\\ \\ \\ \\ E[X^2] = 4^2 \\times \\frac{1}{24} + 2^2 \\times \\frac{1}{4} + 1^2 \\times \\frac{1}{3} = 2\\\\\n",
    "\\ \\ \\ \\ \\text{Var}(X) = 2 - 1 = 1\\\\\n",
    "$"
   ]
  },
  {
   "cell_type": "markdown",
   "metadata": {},
   "source": [
    "$\n",
    "\\textbf{Conditional Probability}\\\\ \\ \\\\\n",
    "\\bullet \\text{The conditional probability of B given A is defined as}\\\\\n",
    "P(B|A) = \\begin{cases}\n",
    "\\frac{P(AB)}{P(A)}, & P(A) > 0\\\\\n",
    "\\text{undefined}, & P(A) = 0\\\\\n",
    "\\end{cases}\\\\\n",
    "\\bullet \\text{Properties:}\\\\\n",
    "\\ \\ \\ \\ \\bullet P(B|A) \\ge 0\\\\\n",
    "\\ \\ \\ \\ \\bullet P(B|A) + P(B^c|A) = 1\\\\\n",
    "\\ \\ \\ \\ \\bullet P(\\Omega|A) = 1\\\\\n",
    "\\ \\ \\ \\ \\bullet P(AB) = P(A|B)P(B)\\\\\n",
    "\\ \\ \\ \\ \\bullet P(ABC) = P(C)P(B|C)P(A|BC)\\\\ \\ \\\\\n",
    "\\textbf{Example 2:}\\\\\n",
    "\\text{If two fair dice are rolled, let $A$ be the event that their sum is 6 and B the event}\\\\\n",
    "\\text{that the numbers are equal. Compute}\\ P(B)\\ \\text{and}\\ P(B|A).\\\\\n",
    "\\ \\ \\ \\ P(B) = \\frac{6}{36} = \\frac{1}{6}\\\\\n",
    "\\ \\ \\ \\ P(B|A) = \\frac{1}{5}\\\\\n",
    "\\ \\ \\ \\ P(A) = \\frac{5}{36}\\\\\n",
    "\\ \\ \\ \\ P(AB) = \\frac{1}{36} = P(B|A)P(A)\\\\\n",
    "$"
   ]
  }
 ],
 "metadata": {
  "kernelspec": {
   "display_name": "Python 3",
   "language": "python",
   "name": "python3"
  },
  "language_info": {
   "codemirror_mode": {
    "name": "ipython",
    "version": 3
   },
   "file_extension": ".py",
   "mimetype": "text/x-python",
   "name": "python",
   "nbconvert_exporter": "python",
   "pygments_lexer": "ipython3",
   "version": "3.7.3"
  }
 },
 "nbformat": 4,
 "nbformat_minor": 2
}
