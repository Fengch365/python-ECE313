{
 "cells": [
  {
   "cell_type": "markdown",
   "metadata": {},
   "source": [
    "$\n",
    "\\textbf{Previously}\\\\\n",
    "\\bullet \\text{Binomial$(n,p)$, Geometric$(p)$, Poisson$(\\lambda)$}\\\\\n",
    "$"
   ]
  },
  {
   "cell_type": "markdown",
   "metadata": {},
   "source": [
    "$\n",
    "\\textbf{Maximum Likelihood (ML) Parameter Estimation}\\ \\text{(assume what you have seen is the most likely thing to happen)}\\\\\n",
    "\\ \\\\\n",
    "\\text{Suppose $X$ has a pmf $P_\\theta(k)$ but $\\theta$ is unknown. ($\\theta$ is the parameter of the distribution)}\\\\\n",
    "\\ \\ \\ \\ \\text{e.g. $X$ is Binomial$(n,\\theta)$ for unknown $\\theta$,}\\ P(k) = \\binom{n}{k} \\theta^k (1-\\theta)^{n-k}\\\\\n",
    "\\ \\\\\n",
    "\\textbf{Goal:}\\ \\text{I observe $X=k$, and I want to estimate $\\theta$.}\\\\\n",
    "\\ \\\\\n",
    "\\textbf{ML approach:}\\ \\text{View $p_\\theta(k)$ as a function of $\\theta$ (k is fixed) and find $\\theta$ that maximizes}\\ \\underbrace{P_\\theta(k)}_{\\text{likelihood that $X=k$}}\\ \\text{(Call it}\\ \\hat{\\theta}_{ML}\\text{)}\\\\\n",
    "\\ \\\\\n",
    "\\textbf{Ex 2.8.1}\\ \\text{n throws of a biased coin ($P\\{\\text{heads}\\}=p$, $p$ is unknown). If $k$ heads are observed, what is $\\hat{p}_{ML}$? (Guess $\\hat{p}_{ML} = \\frac{k}{n}$)}\\\\\n",
    "\\ \\ \\ \\ \\text{$X$ is Binomial$(n,p)$, pmf $P_X(k) = \\binom{n}{k} p^k (1-p)^{n-k}$}\\\\\n",
    "\\ \\ \\ \\ \\text{want $p$ that maximizes $P_X(k)$}\\\\\n",
    "\\ \\ \\ \\ \\frac{d}{dp} [\\binom{n}{k} p^k (1-p)^{n-k}]=kp^{k-1}(1-p)^{n-k} + p^k (n-k)(1-p)^{n-k-1}(-1) = 0\\\\\n",
    "\\ \\ \\ \\ \\underbrace{p^{k-1}(1-p)^{n-k-1}}_{>0}[k(1-p) - p(n-k)] = 0\\\\\n",
    "\\ \\ \\ \\ \\Rightarrow k(1-p) = p(n-k) \\Rightarrow k = pn \\Rightarrow \\hat{p}=\\frac{k}{n}\\\\ \n",
    "\\ \\\\\n",
    "\\textbf{Ex 2.8.3}\\ \\text{$X$ is Geometric$(p)$, for $p$ unknown. Observe $X=k$. What is $\\hat{p}_{ML}$?}\\\\\n",
    "\\ \\ \\ \\ \\text{pmf}\\ P_X(k) = (1-p)^{k-1}p\\Rightarrow \\frac{d}{dp}[(1-p)^{k-1}p] = (k-1)(1-p)^{k-2}(-1)p + (1-p)^{k-1}\\cdot 1 = 0\\\\\n",
    "\\ \\ \\ \\ \\underbrace{(1-p)^{k-2}}_{>0}[(k-1)(-p)+(1-p)]=0 \\Rightarrow (k-1)p = 1-p \\Rightarrow \\hat{p}_{ML} = \\frac{1}{k}\\\\\n",
    "$"
   ]
  },
  {
   "cell_type": "markdown",
   "metadata": {},
   "source": [
    "$\n",
    "\\textbf{Markov and Chebychev Inequalities}\\\\\n",
    "\\text{Allow you to}\\ \\textbf{bound probabilities without knowing pmf} \\text{, only need mean and variance.}\\\\ \n",
    "\\ \\\\\n",
    "\\textbf{Markov's Inequality}\\\\\n",
    "\\text{If $Y$ is a non-negative RV, then for any $c>0$,}\\ P\\{Y\\ge c\\} \\le \\frac{E[Y]}{c}\\\\ \n",
    "\\ \\\\\n",
    "\\textbf{Ex}\\ \\text{$X$ is Binomial$(n,\\frac{1}{2})$. Find a bound for $P\\{X\\ge \\frac{3n}{4}\\}$.}\\\\\n",
    "\\ \\ \\ \\ \\text{Using Markov's,}\\ P\\{X\\ge \\frac{3n}{4}\\} \\le \\frac{E[X]}{\\frac{3n}{4}} = \\frac{\\frac{1}{2}n}{\\frac{3}{4}n} = \\frac{2}{3}\\\\\n",
    "\\ \\\\\n",
    "\\textbf{Chebychev's Inequality}\\\\\n",
    "\\text{For a RV $X$ with mean $\\mu$ and variance $\\sigma^2$, for any $d>0$,}\\ \n",
    "\\underbrace{P\\{|X-\\mu|\\ge d\\}}_{\\text{deviation from mean}} \\le \\frac{\\text{Var}(X)}{d^2} = \\frac{\\sigma^2}{d^2}\\\\\n",
    "\\bullet \\text{Use Chebychev's inequality to know}\\ \\textbf{how the value deviates from the mean value}\\\\\n",
    "\\textbf{Note:}\\ \\text{If we pick $d=a\\sigma$,}\\ P\\{|X-\\mu|\\ge a\\sigma\\} \\le \\frac{1}{a^2}\n",
    "\\rightarrow \\text{the $X$ deviates $a$ times of standard deviation ($\\sigma$) from the mean has the probability $\\le \\frac{1}{a^2}$}\\\\\n",
    "\\ \\\\\n",
    "\\textbf{Ex}\\ \\text{Again for $X$ Binomial$(n,\\frac{1}{2})$, bound}\\ P\\{X \\ge \\frac{3n}{4}\\}.\\\\\n",
    "\\ \\ \\ \\ P\\{X \\ge \\frac{3n}{4}\\} = P\\{X-\\frac{n}{2} \\ge \\underbrace{\\frac{3n}{4}-\\frac{n}{2}}_{\\frac{n}{4}}\\}\n",
    "\\le P\\{|X-\\frac{n}{2}| \\ge \\frac{n}{4}\\} \\le \\frac{\\text{Var}(X)}{(\\frac{n}{4})^2} = \\frac{n\\frac{1}{2}(1-\\frac{1}{2})}{(\\frac{n}{4})^2}=\\frac{4}{n}\\\\\n",
    "\\ \\ \\ \\ \\text{The same $P\\{X\\ge \\frac{3n}{4}\\}$ can be bounded by both Markov's and Chebychev's inequality.}\\\\\n",
    "\\ \\ \\ \\ \\text{In this case, for $n>6$, the Chebychev's bound is better than Markov's.}\n",
    "$"
   ]
  }
 ],
 "metadata": {
  "kernelspec": {
   "display_name": "Python 3",
   "language": "python",
   "name": "python3"
  },
  "language_info": {
   "codemirror_mode": {
    "name": "ipython",
    "version": 3
   },
   "file_extension": ".py",
   "mimetype": "text/x-python",
   "name": "python",
   "nbconvert_exporter": "python",
   "pygments_lexer": "ipython3",
   "version": "3.7.3"
  }
 },
 "nbformat": 4,
 "nbformat_minor": 2
}
