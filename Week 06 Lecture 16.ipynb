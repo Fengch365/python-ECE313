{
 "cells": [
  {
   "cell_type": "markdown",
   "metadata": {},
   "source": [
    "$\n",
    "\\textbf{Binary hypothesis testing}\\\\\n",
    "\\ \\\\\n",
    "\\text{Two hypothesis $H_0$ and $H_1$}\\\\\n",
    "\\text{If $H_0$ is true, pmf of $X$ is $P_0$}\\\\\n",
    "\\text{If $H_1$ is true, pmf of $X$ is $P_1$}\\\\\n",
    "\\text{I observe $X=k$. Pick $H_0$ or $H_1$.}\\\\\n",
    "\\ \\\\\n",
    "\\textbf{ML decision rule:}\\ \\text{I pick $H_i$ such that $P_i(k)$ is the largest}\\\\\n",
    "\\ \\ \\ \\ \\begin{matrix}\n",
    "\\ & X=0 & X=1 & X=2 & X=3\\\\ \n",
    "H_1 & 0 & \\underbrace{0.1} & \\overbrace{\\underbrace{0.3}}^{ML} & \\overbrace{\\underbrace{0.6}}^{ML}\\\\\n",
    "H_0 & \\overbrace{\\underbrace{0.4}}^{ML} & \\overbrace{0.3}^{ML} & 0.2 & 0.1\\\\\n",
    "\\end{matrix}\\\\\n",
    "\\text{Note this is equivalent to}\\  \\Lambda(k) \\begin{cases}\n",
    "> 1,\\ \\text{pick}\\ H_1\\\\\n",
    "< 1,\\ \\text{pick}\\ H_0\\\\\n",
    "\\end{cases}\\ (\\Lambda(k)\\ \\text{is likelihood ratio}\\ \\frac{P_1(k)}{P_0(k)})\\\\\n",
    "\\ \\\\ \\ \\\\\n",
    "\\textbf{Maximum a posteriori probability decision rule (MAP)}\\\\\n",
    "\\text{Assume we have priors}\\ \\pi_0 = P(H_0),\\ \\pi_1 = P(H_1)\\\\\n",
    "\\textbf{MAP decision rule:}\\ \\text{compare posteriori probabilities}\\\\\n",
    "\\ \\ \\ \\ P(H_0|X=k) = \\frac{P(H_0,X=k)}{P(H_0,X=k)+P(H_1,X=k)}\\\\\n",
    "\\ \\ \\ \\ P(H_1|X=k) = \\frac{P(H_1,X=k)}{P(H_0,X=k)+P(H_1,X=k)}\\\\\n",
    "\\Rightarrow \\text{comparing posteriors is equivalent to comparing}\\\\\n",
    "\\ \\ \\ \\ P(H_0,X=k) = P(H_0)P(X=k|H_0) = \\pi_0 P_0(k)\\\\\n",
    "\\ \\ \\ \\ P(H_1,X=k) = P(H_1)P(X=k|H_1) = \\pi_1 P_1(k)\\\\\n",
    "\\ \\ \\ \\ \\text{(MAP compares these)}\\\\\n",
    "\\ \\ \\ \\ \\text{using priors, can build joint probability table}\\ (\\pi_0=0.8,\\ \\pi_1=0.2)\\\\\n",
    "\\ \\ \\ \\ \\begin{matrix}\n",
    "\\ & X=0 & X=1 & X=2 & X=3\\\\\n",
    "H_1 & 0 & 0.02 & 0.06 & \\overbrace{0.12}^{MAP}\\\\\n",
    "H_0 & \\overbrace{0.32}^{MAP} & \\overbrace{0.24}^{MAP} & \\overbrace{0.16}^{MAP} & 0.08\\\\\n",
    "\\end{matrix}\\\\\n",
    "\\textbf{Note}\\ \\text{this is equivalent to}\\ \\Lambda(k) \\begin{cases}\n",
    "> \\frac{\\pi_0}{\\pi_1},\\ \\text{pick}\\ H_1\\\\\n",
    "< \\frac{\\pi_0}{\\pi_1},\\ \\text{pick}\\ H_0\\\\\n",
    "\\end{cases}\\\\\n",
    "\\ \\\\\n",
    "\\textbf{Important:}\\ \\text{MAP decision rule minimizes average error probability}\\\\\n",
    "\\ \\ \\ \\ \\text{average error probability}\\ P_e = \\pi_0 \\cdot P_{\\text{false alarm}} + \\pi_1 \\cdot P_{\\text{miss}}\\\\\n",
    "\\ \\ \\ \\ \\text{average error probability} \\rightarrow \\text{sum of all non-braced entries in joint probability table}\\\\\n",
    "\\ \\\\\n",
    "\\textbf{Ex 2.11.1}\\ \\text{$H_0$: coin is fair. $H_1$: $P$(heads) = $\\frac{2}{3}$. Assume}\\ \\pi_0 = 0.2,\\ \\pi_1=0.8\\\\\n",
    "\\text{You filp coin 5 times and observe $X$ heads}\\\\\n",
    "\\ \\ \\ \\ \\text{likelihood matrix}\\ \\begin{matrix}\n",
    "\\ & X=0 & X=1 & X=2 & X=3 & X=4 & X=5\\\\\n",
    "H_1 & \\binom{5}{0}(\\frac{2}{3})^0 (\\frac{1}{3})^5 & \\binom{5}{1}(\\frac{2}{3})^1 (\\frac{1}{3})^4 & \\binom{5}{2}(\\frac{2}{3})^2 (\\frac{1}{3})^3 & \\binom{5}{3}(\\frac{2}{3})^3 (\\frac{1}{3})^2 & \\binom{5}{4}(\\frac{2}{3})^4 (\\frac{1}{3})^1 & \\binom{5}{5}(\\frac{2}{3})^5 (\\frac{1}{3})^0\\\\\n",
    "H_0 & \\binom{5}{0}(\\frac{1}{2})^0 (\\frac{1}{2})^5 & \\binom{5}{1}(\\frac{1}{2})^1 (\\frac{1}{2})^4 & \\binom{5}{2}(\\frac{1}{2})^2 (\\frac{1}{2})^3 & \\binom{5}{3}(\\frac{1}{2})^3 (\\frac{1}{2})^2 & \\binom{5}{4}(\\frac{1}{2})^4 (\\frac{1}{2})^1 & \\binom{5}{5}(\\frac{1}{2})^5 (\\frac{1}{2})^0\\\\\n",
    "\\end{matrix}\\\\\n",
    "\\ \\ \\ \\ \\text{likelihood ratio}\\ \\Lambda(k) = \\frac{P_1(k)}{P_0(k)} = \\frac{\\binom{5}{k}(\\frac{2}{3})^k (\\frac{1}{3})^{5-k}}{\\binom{5}{k}(\\frac{1}{2})^k (\\frac{1}{2})^{5-k}} = \\frac{2^k}{(\\frac{3}{2})^5} \\approx \\frac{2^k}{7.6} \\gtrless 1\\\\\n",
    "\\ \\ \\ \\ \\textbf{ML decision rule:}\\ \\text{If $k\\ge 3$, pick $H_1$. Otherwise, pick $H_0$}\\\\\n",
    "\\ \\ \\ \\ \\textbf{MAP decision rule:}\\ \\Lambda(k) = \\frac{2^k}{7.6} \\gtrless \\frac{\\pi_0}{\\pi_1} = \\frac{1}{4}. \\\n",
    "\\text{If}\\ k\\ge 1,\\ \\frac{2^k}{7.6} > \\frac{1}{4}.\\rightarrow  \\text{If $k\\ge 1$, pick $H_1$. Otherwise, pick $H_0$}\\\\\n",
    "\\ \\ \\ \\ \\text{For ML decision rule,}\\\\\n",
    "\\ \\ \\ \\ \\ \\ \\ \\ P_{\\text{false alarm}} = P(\\text{pick $H_1$}|H_0) = P_0(3) + P_0(4) + P_0(5)\\\\\n",
    "\\ \\ \\ \\ \\ \\ \\ \\ P_{\\text{miss}} = P(\\text{pick $H_0$}|H_1) = P_1(0) + P_1(1) + P_1(2)\\\\\n",
    "\\ \\ \\ \\ \\text{For MAP decision rule,}\\\\\n",
    "\\ \\ \\ \\ \\ \\ \\ \\ P_{\\text{false alarm}} = P(\\text{pick $H_1$}|H_0) = P_0(1) + P_0(2) + P_0(3) + P_0(4) + P_0(5)\\\\\n",
    "\\ \\ \\ \\ \\ \\ \\ \\ P_{\\text{miss}} = P(\\text{pick $H_0$}|H_1) = P_1(0)\\\\\n",
    "\\ \\ \\ \\ \\text{Note: computing $P_{\\text{false alarm}}$ and $P_{\\text{miss}}$ needs to refer to the likelihood table}\\\\\n",
    "$"
   ]
  },
  {
   "cell_type": "markdown",
   "metadata": {},
   "source": [
    "$\n",
    "\\textbf{Reliability}\\\\\n",
    "\\text{Compute (or bound) failure probability}\\\\\n",
    "\\ \\\\\n",
    "\\textbf{Union bound}\\\\\n",
    "\\text{For events A and B,}\\ P(A\\cup B) \\le P(A) + P(B)\\\\\n",
    "\\ \\ \\ \\ \\text{proof}\\ P(A\\cup B) = P(A) + P(B) - \\overbrace{P(AB)}^{\\ge 0} \\le P(A) + P(B)\\\\\n",
    "\\textbf{In general,}\\ \\text{for events $A_1,\\ A_2,\\ ...,\\ A_m$,}\\ P(A_1\\cup A_2\\cup\\ ...\\ \\cup A_m) \\le P(A_1) +\\ ...\\ + P(A_m)\\\\\n",
    "$"
   ]
  }
 ],
 "metadata": {
  "kernelspec": {
   "display_name": "Python 3",
   "language": "python",
   "name": "python3"
  },
  "language_info": {
   "codemirror_mode": {
    "name": "ipython",
    "version": 3
   },
   "file_extension": ".py",
   "mimetype": "text/x-python",
   "name": "python",
   "nbconvert_exporter": "python",
   "pygments_lexer": "ipython3",
   "version": "3.7.4"
  }
 },
 "nbformat": 4,
 "nbformat_minor": 2
}
