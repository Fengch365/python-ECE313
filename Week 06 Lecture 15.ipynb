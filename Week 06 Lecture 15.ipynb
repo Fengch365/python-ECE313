{
 "cells": [
  {
   "cell_type": "markdown",
   "metadata": {},
   "source": [
    "$\n",
    "\\textbf{Previously}\\\\\n",
    "\\bullet \\text{Law of Total Probability}\\Rightarrow P(A) = P(A|E_1)P(E_1) + P(A|E_2)P(E_2)\\ +\\ ...\\ +\\ P(A|E_k)P(E_k)\\\\\n",
    "\\bullet \\text{Bayes' Rule}\\Rightarrow P(E_i|A) = \\frac{P(A|E_i)P(E_i)}{P(A)}\\\\\n",
    "$"
   ]
  },
  {
   "cell_type": "markdown",
   "metadata": {},
   "source": [
    "$\n",
    "\\textbf{Binary hypothesis testing}\\\\\n",
    "\\ \\\\\n",
    "\\text{Two hypothesis: $H_0$ and $H_1$. Only one is true.}\\\\\n",
    "\\text{If $H_0$ is true, pmf of $X$ is $P_0$}\\\\\n",
    "\\text{If $H_1$ is true, pmf of $X$ is $P_1$}\\\\\n",
    "\\ \\\\\n",
    "\\text{We observe $X=k$. Do we pick $H_0$ or $H_1$?}\\\\\n",
    "\\text{$P_0$ and $P_1$ can be written as a}\\ \\textbf{likelihood matrix}\\\\\n",
    "\\textbf{Ex}\\ \\begin{matrix}\n",
    "\\ & X=0 & X=1 & X=2 & X=3\\\\ \n",
    "H_1 & 0 & \\underbrace{0.1} & \\overbrace{\\underbrace{0.3}}^{ML} & \\overbrace{\\underbrace{0.6}}^{ML}\\\\\n",
    "H_0 & \\overbrace{\\underbrace{0.4}}^{ML} & \\overbrace{0.3}^{ML} & 0.2 & 0.1\\\\\n",
    "\\end{matrix}\\ \\underbrace{}_{\\text{random pick}}\\ \\overbrace{}^{\\text{ML pick}}\n",
    "\\ \\\\\n",
    "\\textbf{Decision rule:}\\ \\text{for each value of $X$, either pick $H_0$ or $H_1$}\\\\\n",
    "\\text{which decision rule you pick may depend on application}\\\\\n",
    "\\text{How good is this decision rule?}\\\\\n",
    "\\text{Two types of errors:}\\\\\n",
    "\\ \\ \\ \\ \\bullet \\text{$H_0$ is true but we pick $H_1$ (false alarm)}\\\\\n",
    "\\ \\ \\ \\ \\bullet \\text{$H_1$ is true but we pick $H_0$ (miss)}\\\\\n",
    "\\ \\ \\ \\ P_{\\text{false alarm}} = P(\\text{picking}\\ H_1|H_0) = 0.3 + 0.2 + 0.1 = 0.6\\\\\n",
    "\\ \\ \\ \\ P_{\\text{miss}} = P(\\text{picking}\\ H_0|H_1) = 0\\\\\n",
    "\\ \\\\\n",
    "\\textbf{Maximum Likelihood Decision Rule}\\\\\n",
    "\\rightarrow \\text{for each $X=k$, pick the $H_i$ with larger $P_i(k)$ (larger value in column)}\\\\\n",
    "\\text{Alternative way to define ML decision rule:}\\\\\n",
    "\\ \\ \\ \\ \\text{Let}\\ \\Lambda(k) = \\frac{P_1(k)}{P_0(k)}\\\\\n",
    "\\ \\ \\ \\ \\text{if}\\ \\Lambda(k)>1,\\ \\text{pick}\\ H_1\\\\\n",
    "\\ \\ \\ \\ \\text{if}\\ \\Lambda(k)<1,\\ \\text{pick}\\ H_0\\\\\n",
    "\\ \\ \\ \\ \\text{This is a}\\ \\textbf{likelihood ratio test}\\ \\text{(LRT)}\\\\\n",
    "\\ \\\\\n",
    "\\textbf{General LRT}\\\\\n",
    "\\ \\ \\ \\ \\Lambda(k) \\begin{cases}\n",
    "> \\tau,\\ \\text{pick}\\ H_1\\\\\n",
    "< \\tau,\\ \\text{pick}\\ H_0\\\\\n",
    "\\end{cases}\\\\\n",
    "\\ \\ \\ \\ (\\tau \\uparrow \\ \\Rightarrow \\text{false alarm} \\downarrow\\ \\text{miss}\\uparrow)\\\\\n",
    "\\ \\ \\ \\ (\\tau \\downarrow \\ \\Rightarrow \\text{false alarm} \\uparrow\\ \\text{miss}\\downarrow)\\\\\n",
    "\\ \\\\\n",
    "\\textbf{Maximum A Posteriori Probability (MAP) Decision Rule}\\\\\n",
    "\\text{Assume we know}\\ \\textbf{prior}\\ \\text{probabilities}\\ \\pi_0 = P(H_0),\\ \\pi_1 = P(H_1)\\\\\n",
    "\\text{Notice that}\\ P(X=k\\ \\text{and $H_i$ is true}) = \\pi_i P(X=k|H_i) = \\pi_i P_i(k)\\\\\n",
    "\\ \\ \\ \\ \\textbf{joint probability matrix}\\\\\n",
    "\\ \\ \\ \\ \\begin{matrix}\n",
    "\\ & X=0 & X=1 & X=2 & X=3\\\\\n",
    "H_1 & 0 & 0.02 & 0.06 & 0.12\\\\\n",
    "H_0 & 0.32 & 0.24 & 0.16 & 0.08\\\\\n",
    "\\end{matrix}\\ \\text{given}\\ \\pi_1 = 0.2,\\ \\pi_0 = 0.8\\\\\n",
    "\\ \\ \\ \\ \\text{(multiply each row of likelihood matrix by the corresponding $\\pi_i$)}\\\\\n",
    "\\ \\\\\n",
    "\\text{Conditional probability $P(H_i|X=k)$ is called a}\\ \\textbf{posteriori probability.}\\\\\n",
    "\\ \\\\\n",
    "\\textbf{MAP decision rule}\\\\\n",
    "\\text{Given $X=k$, pick $i$ that maximizes}\\ P(H_i|X=k)\\\\\n",
    "\\ \\\\\n",
    "\\textbf{Ex}\\ X=2\\\\\n",
    "\\ \\ \\ \\ P(H_1|X=2) = \\frac{P(H_1, X=2)}{P(X=2)} = \\frac{P(H_1, X=2)}{P(X=2,H_0)+P(X=2,H_1)} = \\frac{0.06}{0.06+0.16}\\\\\n",
    "\\ \\ \\ \\ P(H_0|X=2) = \\frac{P(H_0, X=2)}{P(X=2,H_0)+P(X=2,H_1)} = \\frac{0.16}{0.06+0.16}\\\\\n",
    "\\ \\ \\ \\ \\text{since}\\ P(H_0|X=2) > P(H_1|X=2),\\ \\text{we pick}\\ H_0\\\\\n",
    "$"
   ]
  }
 ],
 "metadata": {
  "kernelspec": {
   "display_name": "Python 3",
   "language": "python",
   "name": "python3"
  },
  "language_info": {
   "codemirror_mode": {
    "name": "ipython",
    "version": 3
   },
   "file_extension": ".py",
   "mimetype": "text/x-python",
   "name": "python",
   "nbconvert_exporter": "python",
   "pygments_lexer": "ipython3",
   "version": "3.7.4"
  }
 },
 "nbformat": 4,
 "nbformat_minor": 2
}
