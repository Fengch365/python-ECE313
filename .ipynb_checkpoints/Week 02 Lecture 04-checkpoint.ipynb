{
 "cells": [
  {
   "cell_type": "markdown",
   "metadata": {},
   "source": [
    "$\n",
    "\\text{Previously}\\\\\n",
    "\\bullet \\text{Calculate the size of sets}\\\\\n",
    "\\bullet \\text{Binomial coefficient}\\\\\n",
    "\\binom{n}{k} = \\frac{n!}{k!(n-k)!}\\ = \\text{# of subsets of size k out of n distinct objects}\\\\\n",
    "$"
   ]
  },
  {
   "cell_type": "markdown",
   "metadata": {},
   "source": [
    "$\n",
    "\\text{Ex Deck of playing cards wih 52 cards (suits Hearts, Clubs, Spades, Diamonds)}\\\\\n",
    "\\ \\ \\ \\ \\{1H, 2H, ..., 13H, 1C, ...,13C, 1S, ..., 13S, 1D, ..., 13D\\}\\\\\n",
    "\\ \\ \\ \\ \\text{a) Randomly draw 3 cards. Find probability that they are all 4s}\\\\\n",
    "\\ \\ \\ \\ P(\\text{all 4s}) = \\frac{\\text{# of ways to draw 3 4s}}{\\text{# of ways to draw 3 cards}} = \\frac{\\binom{4}{3}}{\\binom{52}{3}}\\\\\n",
    "\\ \\ \\ \\ \\text{b) Draw 3 cards}\\\\\n",
    "\\ \\ \\ \\ P(\\text{all same number}) = \\frac{\\text{# of ways to draw 3 same number}}{\\text{# of ways to draw 3 cards}} = \\frac{\\binom{4}{3} \\times 13}{\\binom{52}{3}}\\\\\n",
    "\\ \\ \\ \\ \\text{c) Draw 5 cards}\\\\\n",
    "\\ \\ \\ \\ P(\\text{Full House}) = \\frac{13 \\binom{4}{3} \\times 12 \\binom{4}{2}}{\\binom{52}{5}}\\\\\n",
    "\\ \\ \\ \\ (\\text{three cards with same number and other two with another number} \\rightarrow \\text{Full House})\\\\\n",
    "\\ \\ \\ \\ \\text{d) Draw 5 cards. Two pairs, e.g. 4S,4D,7C,7H,11H}\\\\\n",
    "\\ \\ \\ \\ P(\\text{two pairs}) = \\frac{13 \\binom{4}{2} \\times 12\\binom{4}{2} \\times 11\\binom{4}{1}}{\\binom{52}{5} \\times 2} = \\frac{\\binom{13}{3} \\binom{3}{1} \\binom{4}{2} \\binom{4}{2} \\binom{4}{1}}{\\binom{52}{5}}\\\\\n",
    "\\ \\ \\ \\ 2 \\rightarrow \\text{(order of pairs doesn't matter)}\\\\\n",
    "$"
   ]
  },
  {
   "cell_type": "markdown",
   "metadata": {},
   "source": [
    "$\n",
    "\\text{Problem 1.3 10 students are to be grouped into teams.}\\\\\n",
    "\\ \\ \\ \\ \\text{a) How many ways to split students into teams of 2?}\\\\\n",
    "\\ \\ \\ \\ \\text{First, suppose order of teams matters}\\\\\n",
    "\\ \\ \\ \\ \\text{# of ways} = \\underbrace{\\binom{10}{2}}_{\\text{team1}}\\ \\underbrace{\\binom{8}{2}}_{\\text{team2}}\\ \\underbrace{\\binom{6}{2}}_{\\text{team3}}\\ \\underbrace{\\binom{4}{2}}_{\\text{team4}}\\ \\underbrace{\\binom{2}{2}}_{\\text{team5}} = \\frac{10!}{2^5}\\\\\n",
    "\\ \\ \\ \\ \\text{Because ordering doesn't matter, # ways} = \\frac{10!}{2^5 \\times 5!} = 945\\\\\n",
    "\\ \\ \\ \\ \\text{b) what if teams can have 2 or 3 students each?}\\\\\n",
    "\\ \\ \\ \\ \\text{# of 3-student team must be even: 0, 2}\\\\\n",
    "\\ \\ \\ \\ \\text{If 0, then we have 5 teams of 2: 945 ways.}\\\\\n",
    "\\ \\ \\ \\ \\text{If 2, first suppose order matters:}\\\\\n",
    "\\ \\ \\ \\ \\underbrace{\\binom{10}{3}}_{\\text{team1(3)}}\\ \\ \\underbrace{\\binom{7}{3}}_{\\text{team2(3)}}\\ \\ \\underbrace{\\binom{4}{2}}_{\\text{team1(2)}}\\ \\ \\underbrace{\\binom{2}{2}}_{\\text{team2(2)}}\\\\\n",
    "\\ \\ \\ \\ \\text{Because order doesn't matter,}\\\\\n",
    "\\ \\ \\ \\ \\text{# of ways is}\\ \\frac{10!}{3!3!2!2!2!2!}=6300\\\\\n",
    "\\ \\ \\ \\ (\\text{the}\\ \\textbf{last two}\\ \\text{2!} \\rightarrow \\text{order doesn't matter})\\\\\n",
    "\\ \\ \\ \\ \\text{Final answer is}\\ 945+6300 = 7245\n",
    "$"
   ]
  },
  {
   "cell_type": "markdown",
   "metadata": {},
   "source": [
    "$\n",
    "\\textbf{Three-event Karnaugh maps}\\\\\n",
    "$\n",
    "\n",
    "$\n",
    "\\text{Ex. 1.4.2 Roll two dice. Define events A={sum is even}, B={sum is multiple of 3}, C={both numbers are equal}}\\\\\n",
    "\\ \\ \\ \\ \\text{a) Display outcomes in K-map}\\\\\n",
    "\\begin{matrix}\n",
    "B^c & B^c & B & B & \\ \\\\\n",
    "\\text{(sum is 5,7,11)} & \\times & \\times & 12,21,36,63,45,54 & A^c \\\\\n",
    "\\text{(sum is 4,8,10)} & 11,22,44,55 & 33,66 & 15,51,24,42 & A \\\\\n",
    "C^c & C & C & C^c & \\ \\\\\n",
    "\\end{matrix}\n",
    "$"
   ]
  }
 ],
 "metadata": {
  "kernelspec": {
   "display_name": "Python 3",
   "language": "python",
   "name": "python3"
  },
  "language_info": {
   "codemirror_mode": {
    "name": "ipython",
    "version": 3
   },
   "file_extension": ".py",
   "mimetype": "text/x-python",
   "name": "python",
   "nbconvert_exporter": "python",
   "pygments_lexer": "ipython3",
   "version": "3.7.3"
  }
 },
 "nbformat": 4,
 "nbformat_minor": 2
}
