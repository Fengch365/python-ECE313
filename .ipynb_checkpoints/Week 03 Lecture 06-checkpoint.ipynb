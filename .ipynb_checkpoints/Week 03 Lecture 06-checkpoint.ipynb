{
 "cells": [
  {
   "attachments": {},
   "cell_type": "markdown",
   "metadata": {},
   "source": [
    "$\n",
    "\\textbf{Example 1:}\\\\ \\ \\\\\n",
    "\\textbf{Example 2:}\\\\\n",
    "X_1 =\\ \\text{r.v. for the first die}\\\\\n",
    "X_2 =\\ \\text{r.v. for the second die}\\\\\n",
    "P_{X1,X_2}(x_1,x_2) = \\frac{1}{36}\\ \\text{for any $(x_1,x_2)$}\\\\\n",
    "S(X_1,X_2) = X_1+X_2\\rightarrow \\text{range of}\\ S=\\{2,3,4,5,6,7,8,9,10,11,12\\}\\\\\n",
    "\\ \\\\\n",
    "p_S(2)=\\frac{1}{36},\\ p_S(3)=\\frac{2}{36},\\ p_S(4)=\\frac{3}{36},\\ p_S(5)=\\frac{5}{36},\\ p_S(6)=\\frac{6}{36},\\ p_S(7)=\\frac{7}{36}\\\\\n",
    "p_S(8)=\\frac{5}{36}\\ p_S(9)=\\frac{4}{36}\\ p_S(10)=\\frac{3}{36}\\ p_S(11)=\\frac{2}{36}\\ p_S(12)=\\frac{1}{36}\\\\ \\ \\\\\n",
    "\\textbf{Example 3:}\\\\\n",
    "E[S] = \\sum_{i} x_i p_S(x_i) = 7\\\\ \\ \\\\\n",
    "\\textbf{Example 4:}\\\\\n",
    "\\text{Range of Y}=\\{1,2,3\\}\\\\\n",
    "Y^{-1}(1)=\\{(1,1,1),\\ (2,2,2),\\ (3,3,3),\\ (4,4,4),\\ (5,5,5),\\ (6,6,6)\\}\\\\\n",
    "Y^{-1}(2)=\\{(1,1,2),\\ (1,1,3),\\ ...\\}\\\\\n",
    "Y^{-1}(3)=\\{(1,2,3),\\ (1,2,4),\\ ...\\}\\\\\n",
    "p_Y(1)=\\frac{6}{216}\\\\\n",
    "p_Y(2)=\\frac{90}{216}\\\\\n",
    "p_Y(3)=\\frac{120}{216}\\\\\n",
    "E[Y] = \\frac{6}{216}+2\\times \\frac{90}{216}+3\\times \\frac{120}{216}\n",
    "$"
   ]
  }
 ],
 "metadata": {
  "kernelspec": {
   "display_name": "Python 3",
   "language": "python",
   "name": "python3"
  },
  "language_info": {
   "codemirror_mode": {
    "name": "ipython",
    "version": 3
   },
   "file_extension": ".py",
   "mimetype": "text/x-python",
   "name": "python",
   "nbconvert_exporter": "python",
   "pygments_lexer": "ipython3",
   "version": "3.7.3"
  }
 },
 "nbformat": 4,
 "nbformat_minor": 2
}
