{
 "cells": [
  {
   "cell_type": "markdown",
   "metadata": {},
   "source": [
    "$\n",
    "\\text{The basic topic: Computing the Probability of an event}\\\\\n",
    "\\ \\ \\ \\ \\text{1) Toss a coin. Probability of heads? $\\frac{1}{2}$}\\\\\n",
    "\\ \\ \\ \\ \\text{2) Toss two coins. Probability of heads? $\\frac{1}{2} \\times \\frac{1}{2} = \\frac{1}{4}$}\\\\\n",
    "\\ \\ \\ \\ \\text{3) Toss 10 coins. Prob. of 7 heads? $C_{10}^7 \\times (\\frac{1}{2})^{10}$}\\\\\n",
    "\\ \\ \\ \\ \\text{4) Draw parallel lines on the floor, with distance 1 inch.}\\\\\n",
    "\\ \\ \\ \\ \\ \\ \\ \\ \\text{Drop 1 inch needle on the floor. Prob. that needle falls on a line? $\\frac{2}{\\pi}$} \\rightarrow \\text{(motivation problem)}\\\\\n",
    "$"
   ]
  },
  {
   "cell_type": "markdown",
   "metadata": {},
   "source": [
    "$\n",
    "\\text{Outcomes, Events and Probabilities}\\\\\n",
    "\\text{Ex.1 Roll a die}\\\\\n",
    "\\text{Outcomes: $\\Omega = \\{1,2,3,4,5,6\\}$} \\rightarrow \\text{contain all the possible results of an experiment}\\\\\n",
    "\\text{Event: A set of outcomes, i.e. a subset of $\\Omega$}\\\\\n",
    "\\ \\ \\ \\ \\text{examples of events: {1}, {4}, {1,3}, {1,2,3,4,5,6}}\\\\\n",
    "\\ \\ \\ \\ \\text{A = {2,4,6} (A is the event that outcome is even)}\\\\\n",
    "\\ \\ \\ \\ \\text{B = {1,2,3} (B is the events that the outcome is $< 4$)}\\\\\n",
    "\\ \\\\\n",
    "\\bullet \\ \\text{Every event $A \\subseteq \\Omega$ has a probability $P(A) \\ (0 \\le P(A) \\le 1)$}\\\\\n",
    "\\bullet \\ \\text{Every experiment is modeled by a}\\ \\textbf{Probability Space}\\\\\n",
    "\\ \\ \\ \\ \\ \\ \\ \\ \\text{Probability space} = (\\Omega, F, P) \\rightarrow \\text{(set of outcomes, set of events, probability measure)}\\\\\n",
    "\\bullet \\ \\text{$P$}\\ \\textbf{maps}\\ \\text{an event to a number between 0 and 1(inclusive)}\\\\\n",
    "$    "
   ]
  },
  {
   "cell_type": "markdown",
   "metadata": {},
   "source": [
    "$\n",
    "\\text{Ex 2.1 Toss a fair coin}\\\\\n",
    "\\text{set of ourcomes:}\\ \\Omega = \\{H, T\\}\\\\\n",
    "\\text{set of events:}\\ F = \\{\\{H\\}, \\{T\\}, \\{H,T\\}, \\phi\\}\\ \\text{($\\phi$ represents an empty set)}\\\\\n",
    "\\text{probability measure:}\\ P(\\{H\\}) = \\frac{1}{2} = P(\\{T\\})\\\\\n",
    "\\ \\ \\ \\  P(\\{H,T\\}) = 1\\ \\text{(heads or tails)},\\ P(\\phi) = 0\\ \\text{(neither heads nor tails)}\\\\\n",
    "\\ \\ \\ \\ \\textbf{(In general, $P(\\phi) = 0, P(\\Omega) = 1$)}\\\\\n",
    "$\n",
    "\n",
    "$\n",
    "\\text{Ex 2.2 Toss two coins}\\\\\n",
    "\\Omega = \\{(H,H), (H,T), (T,H), (T,T)\\}\\\\\n",
    "\\ \\ \\ \\ \\bullet \\text{the single outcome should specify everything}\\\\\n",
    "\\ \\ \\ \\ \\bullet \\text{use ( , ) to note the things that}\\ \\textbf{order matters}\\\\\n",
    "F = \\{\\{(H,H)\\}, \\{(H,H), (H,T)\\},\\ ... \\} = 2^\\Omega \\rightarrow \\textbf{all possible subsets of $\\Omega$ (including $\\phi,\\ \\Omega$)}\\\\\n",
    "A = \\{(H,H), (T,T)\\},\\ P(A) = \\frac{2}{4} = \\frac{1}{2}\\\\\n",
    "B = \\{\\text{at least one tails}\\} = \\{(H,T), (T,H), (T,T)\\},\\ P(B) = \\frac{3}{4} = \\frac{\\text{outcomes satisfy B}}{\\text{the total outcomes}}\\\\\n",
    "\\text{In the example, for any event E (i.e. $E \\in F$)},\\ P(E) = \\frac{|E|}{|\\Omega|}\\ (= \\frac{|E|}{4}\\ \\text{in this example})\\\\\n",
    "$"
   ]
  },
  {
   "cell_type": "markdown",
   "metadata": {},
   "source": [
    "$\n",
    "\\text{Ex 3 Toss one coin. If heads, toss it again}\\\\\n",
    "\\Omega = \\{(T), (H,H), (H,T)\\}\\leftarrow \\text{(} \\textbf{non-equal}\\ \\text{probable outcomes)}\\\\\n",
    "A = \\{(T)\\},\\ P(A) = \\frac{1}{2}\\\\\n",
    "B = \\{(H,H), (H,T)\\},\\ P(B) = \\frac{1}{2}\\ \\text{(first toss is heads)}\\\\\n",
    "$"
   ]
  }
 ],
 "metadata": {
  "kernelspec": {
   "display_name": "Python 3",
   "language": "python",
   "name": "python3"
  },
  "language_info": {
   "codemirror_mode": {
    "name": "ipython",
    "version": 3
   },
   "file_extension": ".py",
   "mimetype": "text/x-python",
   "name": "python",
   "nbconvert_exporter": "python",
   "pygments_lexer": "ipython3",
   "version": "3.7.3"
  }
 },
 "nbformat": 4,
 "nbformat_minor": 2
}
