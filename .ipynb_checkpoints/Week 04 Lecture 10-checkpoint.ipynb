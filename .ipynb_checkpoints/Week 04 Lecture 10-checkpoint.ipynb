{
 "cells": [
  {
   "cell_type": "markdown",
   "metadata": {},
   "source": [
    "$\n",
    "\\textbf{Previously}\\\\\n",
    "\\bullet \\text{Bernoulli}(p)\\ \\text{(coin toss, $P\\{X=1\\}=p$)}\\\\\n",
    "\\bullet \\text{Binomial}(n,p) = \\text{# of ones out of n Bernoulli$(p)$ trials}\\\\\n",
    "\\ \\ \\ \\ \\text{If X is Binomial$(n,p)$},\\ P\\{X=k\\}=\\binom{n}{k} p^k (1-p)^{n-k}\\\\ \\ \\\\\n",
    "\\textbf{Problem 2.17}\\ \\text{5 cars in race. Each car independently breaks down with probability $\\frac{1}{5}$.}\\\\\n",
    "\\ \\ \\ \\ \\text{X = # of cars that finish race, so X is Binomial$(5,\\frac{4}{5}) \\rightarrow$ probability of finishing}\\\\\n",
    "\\ \\ \\ \\ a)\\ P(X=2) = \\binom{5}{2} (\\frac{4}{5})^2 (\\frac{1}{5})^3\\\\\n",
    "\\ \\ \\ \\ b)\\ P(X \\le 2) = P(X=0) + P(X=1) + P(X=2)\n",
    "$"
   ]
  },
  {
   "cell_type": "markdown",
   "metadata": {},
   "source": [
    "$\n",
    "\\textbf{Geometric Distribution}\\\\ \\ \\\\\n",
    "\\text{Take a sequence of Bernoulli$(p)$ trials $X_1,X_2$,}\\\\\n",
    "\\text{$L$ = # of trials until the first 1 appears, e.g.}\\ \\underbrace{0001}_{L=4}0101\\\\\n",
    "\\text{$L$ has a Geometric$(p)$ distribution.}\\ L\\in \\{1,2,3,...\\}\\\\\n",
    "\\text{pmf}\\ P_L(1) = p,\\ P_L(2) = \\underbrace{(1-p)}_{\\text{first is 0}}\\underbrace{p}_{\\text{second is 1}},\\ P_L(3) = (1-p)(1-p)p = (1-p)^2p\\\\\n",
    "\\ \\ \\ \\ P_L(k) = (1-p)^{k-1}p,\\ k=1,2,3,...\\\\ \\ \\\\\n",
    "\\textbf{Mean:}\\ E[L] = \\sum_{k=1}^{\\infty} k(1-p)^{k-1}p = \\text{not easy to compute. Try it}\\\\\n",
    "\\ \\ \\ \\ \\text{Trick: If first trial is 1, $L=1$. Otherwise, $L = 1 + \\tilde{L} \\rightarrow$ # of additional trials until first 1}\\\\\n",
    "\\ \\ \\ \\ \\text{$L$ and $\\tilde{L}$ have the same distribution ($\\tilde{L}$ is like \"starting over\")}\\\\\n",
    "\\ \\ \\ \\ E[L] = p\\times 1 + (1-p)E[1+\\tilde{L}] = p + (1-p) + (1-p)E[L]\\\\\n",
    "\\ \\ \\ \\ \\Rightarrow pE[L] = 1 \\rightarrow E[L] = \\frac{1}{p}\\\\ \\ \\\\\n",
    "\\textbf{Variance:}\\ \\text{Var} = E[L^2] - E[L]^2\\ \\text{(use the same trick to find $E[L^2]$)}\\\\\n",
    "\\ \\ \\ \\ \\text{If the first trial is 1, $L^2 = 1$. Otherwise,}\\ L^2 = (1+\\tilde{L})^2 = 1+2\\tilde{L}+\\tilde{L}^2\\\\\n",
    "\\ \\ \\ \\ \\Rightarrow E[L^2] = p\\times 1 + (1-p)E[(1+\\tilde{L})^2] = p + (1-p) + 2(1-p)E[L] + (1-p)E[L^2]\\\\\n",
    "\\ \\ \\ \\ E[L^2] = \\frac{2-p}{p^2}\\ \\text{(check)} \\Rightarrow \\text{Var}(L)=\\frac{2-p}{p^2}-\\frac{1}{p^2} = \\frac{1-p}{p^2}\\\\ \\ \\\\\n",
    "\\textbf{Tail Probability:}\\ \\text{If $L$ has Geometric$(p)$ distribution, what is}\\ P\\{L>k\\}?\\\\\n",
    "\\ \\ \\ \\ P\\{L>k\\} = \\sum_{i=k+1}^{\\infty}P_L(i) = \\sum_{i=k+1}^{\\infty}(1-p)^{i-1}p = p \\sum_{j=0}^{\\infty}(1-p)^{k+j}\\\\\n",
    "\\ \\ \\ \\ \\ \\ \\ \\ \\ \\ \\ \\ \\ \\ \\ \\ \\ \\ \\ \\ \\ = p (1-p)^k \\sum_{j=0}^{\\infty}(1-p)^{j} = p (1-p)^k \\frac{1}{1-(1-p)} = (1-p)^k\\\\ \\ \\\\\n",
    "\\textbf{Memoryless Probability of Geometric Distribution}\\\\\n",
    "\\ \\ \\ \\ \\text{Suppose $L$ is Geometric$(p)$ RV. Pick $n\\ge 0,\\ k\\ge 0$. Then}\\\\\n",
    "\\ \\ \\ \\ P(L> k+n | \\underbrace{L>n}_{\\text{first n tosses were zero}}) = P(L>k)\\\\\n",
    "\\text{Proof}\\ P(L>k+n|L>n) = \\frac{P(L>k+n, L>n)}{P(L>n)} = \\frac{P(L>k+n)}{P(L>n)} = \\frac{(1-p)^{k+n}}{(1-p)^n} = (1-p)^k = P(L>k)\\\\ \\ \\\\\n",
    "\\textbf{Ex 1}\\ \\text{Roll die repeatedly until number > 4.}\\\\\n",
    "\\text{Let $N$ be total # of rolls. Find}\\ P\\{N=k\\}\\ \\text{and}\\ E[N]\\\\\n",
    "\\ \\ \\ \\ \\text{$N$ has Geometric$(\\frac{1}{3})$ distribution}\\\\\n",
    "\\ \\ \\ \\ P(N=k) = (1-\\frac{1}{3})^{k-1}\\times \\frac{1}{3},\\ E[N] = \\frac{1}{\\frac{1}{3}} = 3\\\\ \\ \\\\\n",
    "\\textbf{Ex 2}\\ \\text{Roll die repreatedly until we see same number twice in a row}\\\\\n",
    "\\text{$N=$ total # of rolls. Find}\\ P(N-k)\\\\\n",
    "\\ \\ \\ \\ P(N=1)=0,\\ N=1+\\tilde{N}\\ \\text{where $\\tilde{N}$ is Geometric$(\\frac{1}{6})$}\\\\\n",
    "\\ \\ \\ \\therefore P(N=k) = P(\\tilde{N}=k-1) = (1-\\frac{1}{6})^{k-2}\\times \\frac{1}{6}\\\\\n",
    "\\ \\ \\ \\therefore E[N] = 1 + E[\\tilde{N}] = 1+ 6 = 7\\\\\n",
    "$"
   ]
  }
 ],
 "metadata": {
  "kernelspec": {
   "display_name": "Python 3",
   "language": "python",
   "name": "python3"
  },
  "language_info": {
   "codemirror_mode": {
    "name": "ipython",
    "version": 3
   },
   "file_extension": ".py",
   "mimetype": "text/x-python",
   "name": "python",
   "nbconvert_exporter": "python",
   "pygments_lexer": "ipython3",
   "version": "3.7.3"
  }
 },
 "nbformat": 4,
 "nbformat_minor": 2
}
