{
 "cells": [
  {
   "cell_type": "markdown",
   "metadata": {},
   "source": [
    "$\n",
    "\\textbf{Bernoulli}(p)\\\\\n",
    "P\\{X=1\\} = p,\\ P\\{X=0\\} = 1-p\\\\\n",
    "E[X] = p,\\ \\text{Var}(X) = p(1-p)\n",
    "$"
   ]
  },
  {
   "cell_type": "markdown",
   "metadata": {},
   "source": [
    "$\n",
    "\\textbf{Binomial}(n,p)\\\\\n",
    "p_X(k) = \\binom{n}{k} p^k (1-p)^{n-k},\\ k=0,1,...,n\\\\\n",
    "E[X] = np,\\ \\text{Var}(X) = np(1-p)\\\\\n",
    "\\text{mode is the value of k that maximizes}\\ p_X(k)\\\\\n",
    "\\text{mode}_{\\text{binomial}} = \\lfloor (n+1)p \\rfloor\n",
    "$"
   ]
  },
  {
   "cell_type": "markdown",
   "metadata": {},
   "source": [
    "$\n",
    "\\textbf{Geometric}(p)\\\\\n",
    "p_L(k) = (1-p)^{k-1}p,\\ k=1,2,3,...\\\\\n",
    "E[L] = 1\\cdot E[X_1] + E[1+\\tilde{L}](1-E[X_1])\\\\\n",
    "E[L] = p\\times 1 + (1-p)E[1+\\tilde{L}]\\\\\n",
    "pE[L] = 1 \\Rightarrow E[L] = \\frac{1}{p}\\\\\n",
    "\\text{Var}(L) = \\frac{1-p}{p^2},\\ P\\{L>k\\} = (1-p)^k\\\\\n",
    "P(L>k+n|L>n) = P(L>k)\n",
    "$"
   ]
  },
  {
   "cell_type": "markdown",
   "metadata": {},
   "source": [
    "$\n",
    "\\textbf{Poisson}(\\lambda),\\ \\lambda > 0\\\\\n",
    "\n",
    "$"
   ]
  }
 ],
 "metadata": {
  "kernelspec": {
   "display_name": "Python 3",
   "language": "python",
   "name": "python3"
  },
  "language_info": {
   "codemirror_mode": {
    "name": "ipython",
    "version": 3
   },
   "file_extension": ".py",
   "mimetype": "text/x-python",
   "name": "python",
   "nbconvert_exporter": "python",
   "pygments_lexer": "ipython3",
   "version": "3.7.3"
  }
 },
 "nbformat": 4,
 "nbformat_minor": 2
}
