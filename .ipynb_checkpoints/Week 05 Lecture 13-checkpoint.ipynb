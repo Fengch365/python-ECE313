{
 "cells": [
  {
   "cell_type": "markdown",
   "metadata": {},
   "source": [
    "$\n",
    "\\textbf{Previously}\\\\\n",
    "\\bullet \\text{ML Parameter Estimation (I observe $X=k$. I want to estimate parameter of the distribution)}\\\\\n",
    "\\bullet \\text{Markov and Chebychev Inequality}\\\\\n",
    "\\ \\\\\n",
    "\\textbf{Problem 2.25}\\ \\text{# of photons detected by a sensor is $X$, distributed as Poisson with mean $1+a^2$}\\\\\n",
    "\\text{Find ML estimate of $a$ if: $(a) X=6$, $(b)X=0$}\\\\\n",
    "\\ \\ \\ \\ \\text{a)}\\ P_X(k)=\\frac{e^{-\\lambda}\\lambda^k}{k!},\\ \\text{can find $\\lambda$ that maximizes ex... first}\\\\\n",
    "\\ \\ \\ \\ P_X(6) = \\frac{e^{-\\lambda}\\lambda^6}{6!}\\\\\n",
    "\\ \\ \\ \\ \\frac{d}{d\\lambda}(e^{-\\lambda}\\lambda^6) = -e^{-\\lambda}\\lambda^6 + e^{-\\lambda}\\cdot 6\\cdot \\lambda^5 \n",
    "= e^{-\\lambda}\\lambda^5(-\\lambda+6) = 0 \\Rightarrow \\lambda=6 \\Rightarrow \\hat{a}_{ML}=\\sqrt{5}\\\\\n",
    "\\ \\ \\ \\ \\text{b)}\\ P_X(0) = e^{-\\lambda}.\\ \\lambda=1\\ \\text{maximizes $P_X(0)$ among all}\\ \\lambda\\ge 1 \\Rightarrow \\hat{a}_{ML}=0\\\\\n",
    "\\ \\\\\n",
    "\\text{Markov: If}\\ Y\\ge 0, P\\{Y\\ge 0\\} \\le \\frac{E[Y]}{c}\\ \\text{(for any $c>0$)}\\\\\n",
    "\\text{Chebychev:}\\ P\\{|X-\\mu|\\ge d\\} \\le \\frac{\\sigma^2}{d^2}\\ (\\mu=E[X], \\sigma^2=\\text{Var}(X))\\\\\n",
    "$"
   ]
  },
  {
   "cell_type": "markdown",
   "metadata": {},
   "source": [
    "$\n",
    "\\textbf{Confidene Intervals}\\\\\n",
    "\\ \\\\\n",
    "\\text{Want to estimate # of voters in favor of a proposition, using a poll.}\\\\\n",
    "\\text{Let $p$ be true fraction of YES voters (unknown). We ask $n$ random people what their vote is.}\\\\\n",
    "\\text{$X$ = # of YES among $n$. $X$ is Binomial$(n,p)$.}\\\\\n",
    "\\text{As we saw before, $\\hat{p}_{ML}=\\frac{X}{n}$. What is the confidence interval?}\\\\\n",
    "\\text{From Chebychev,}\\ P\\{|X-np|\\ge \\underbrace{d}_{a\\sigma}\\}\\le \\frac{\\sigma^2}{d^2},\\ \\text{or}\\ P\\{|X-np|\\ge a\\sigma\\}\\le \\frac{1}{a^2}\\\\\n",
    "\\Leftrightarrow P\\{|\\underbrace{\\frac{X}{n}}_{\\hat{p}_{ML}}-p|\\ge \\frac{a\\sigma}{n}\\}\\le \\frac{1}{a^2}\n",
    "= 1 - P\\{|\\hat{p}_{ML}-p|< \\frac{a\\sigma}{n}\\} \\le \\frac{1}{a^2}\n",
    "\\Leftrightarrow P\\{|\\hat{p}_{ML}-p|< \\frac{a\\sigma}{n}\\} \\ge 1-\\frac{1}{a^2}\\\\\n",
    "\\text{... is the probability that $p$ lies in the interval}\\ (\\hat{p}_{ML}-\\frac{a\\sigma}{n},\\hat{p}_{ML}+\\frac{a\\sigma}{n})\\\\\n",
    "\\text{Issue: $\\sigma = \\sqrt{np()1-p}$ is also unknown. But}\\ p(1-p) \\le \\frac{1}{4} \\Rightarrow \\sigma\\le \\frac{1}{2}\\sqrt{n}\\\\\n",
    "\\therefore (\\hat{p}_{ML}-\\frac{a\\sigma}{n},\\hat{p}_{ML}+\\frac{a\\sigma}{n}) < (\\hat{p}_{ML}-\\frac{a\\sigma}{2\\sqrt{n}},\\hat{p}_{ML}+\\frac{a\\sigma}{2\\sqrt{n}})\\\\\n",
    "\\text{conclusion:}\\ P\\{p\\in (\\hat{p}_{ML}-\\frac{a\\sigma}{2\\sqrt{n}},\\hat{p}_{ML}+\\frac{a\\sigma}{2\\sqrt{n}})\\} \\ge 1-\\frac{1}{a^2}\\ \\text{is a $(1-\\frac{1}{a^2})$-confidence interval.}\\\\\n",
    "\\ \\\\\n",
    "\\textbf{Ex 2.9.2}\\ \\text{Want to estimate fraction of telephone numbers that are busy.}\\\\\n",
    "\\text{Test $n$ of them and let $\\hat{p}=\\frac{X}{n}$. Suppose we want $\\hat{p}$ within 0.1}\\\\\n",
    "\\text{of true $p$ with a $96\\%$ confidence. How large does $n$ have to be?}\\\\\n",
    "\\ \\ \\ \\ \\text{Need}\\ (1-\\frac{1}{a^2})\\ge 0.96.\\ \\text{If}\\ a=5, 1-\\frac{1}{25} = 0.96\\\\\n",
    "\\ \\ \\ \\ 96\\% \\text{-confidence interval is $(\\hat{p}-\\frac{5}{2\\sqrt{n}},\\hat{p}+\\frac{5}{2\\sqrt{n}})$}\n",
    "\\Rightarrow \\frac{5}{2\\sqrt{n}} \\le 0.1 \\Rightarrow \\sqrt{n} \\ge 25 \\Rightarrow n \\ge 625\\\\\n",
    "\\ \\\\\n",
    "\\textbf{Another problem}\\ \\text{Two basketball teams, A and B, play several games $P\\{\\text{A wins}\\}=p$}\\\\\n",
    "\\text{In each game, want to estimate $p$ within 0.1 with confidence 75%}\\\\\n",
    "\\text{Find $a$ for 75% confidence. $a=2$ gives $1-\\frac{1}{4}=0.75$.}\\\\\n",
    "\\text{Need}\\ \\frac{a}{2\\sqrt{n}}=\\frac{1}{\\sqrt{n}}\\le 0.1 \\Rightarrow \\sqrt{n} \\ge 10 \\Rightarrow n \\ge 100\\\\\n",
    "$"
   ]
  },
  {
   "cell_type": "markdown",
   "metadata": {},
   "source": [
    "$\n",
    "\\textbf{Law of Total Probability and Bayes' Rule}\\\\\n",
    "\\ \\\\\n",
    "\\text{Events $E_1, E_2, ..., E_k$ are a partition of $\\Omega$}\\\\\n",
    "\\text{(they are mutually exclusive and $E_1\\cup E_2\\cup... \\cup E_k = \\Omega$)}\\\\\n",
    "\\text{For an event A,}\\ A=AE_1\\cup AE_2 \\cup ... \\cup AE_k\\\\\n",
    "\\Rightarrow P(A) = P(AE_1) + P(AE_2) + ... + P(AE_k)\\ \\text{(Law of total probability)}\\\\\n",
    "$"
   ]
  }
 ],
 "metadata": {
  "kernelspec": {
   "display_name": "Python 3",
   "language": "python",
   "name": "python3"
  },
  "language_info": {
   "codemirror_mode": {
    "name": "ipython",
    "version": 3
   },
   "file_extension": ".py",
   "mimetype": "text/x-python",
   "name": "python",
   "nbconvert_exporter": "python",
   "pygments_lexer": "ipython3",
   "version": "3.7.3"
  }
 },
 "nbformat": 4,
 "nbformat_minor": 2
}
