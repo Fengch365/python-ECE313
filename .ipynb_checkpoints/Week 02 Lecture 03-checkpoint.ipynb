{
 "cells": [
  {
   "cell_type": "markdown",
   "metadata": {},
   "source": [
    "$\n",
    "\\text{Previously}\\\\\n",
    "\\bullet \\text{set of operations (on events)}\\\\\n",
    "\\ \\ \\ A \\cup B\\ \\text{(A or B)},\\ AB\\ \\text{(A and B)},\\ A^c\\ \\text{(not A)}\\\\\n",
    "\\bullet \\text{Karnaugh map}\\\\\n",
    "\\ \\ \\ \\begin{matrix}\n",
    "B^c & B & \\ \\\\\n",
    "A^cB^c & A^cB & A^c\\\\ \n",
    "AB^c & AB & A\\\\\n",
    "\\end{matrix}\\\\\n",
    "\\ \\ \\ \\rightarrow (A \\cup B)^c = A^cB^c,\\ (AB)^c = A^c \\cup B^c \\leftarrow \\text{(DeMorgan's Laws)}\\\\\n",
    "$"
   ]
  },
  {
   "cell_type": "markdown",
   "metadata": {},
   "source": [
    "$\n",
    "\\text{Calculating the size of sets (Ch. 1.3)}\\\\\n",
    "$\n",
    "\n",
    "$\n",
    "\\text{Ex.1 Find the # of binary sequences of length n.}\\\\\n",
    "n=1,\\ \\ 0, 1 \\ \\ (2)\\\\\n",
    "n=2,\\ \\ 00, 01, 10, 11 \\ \\ (4)\\\\\n",
    "...\\\\\n",
    "\\text{In general, $2^n$ possible sequences}\\\\\n",
    "\\underbrace{2 \\times 2 \\times 2 \\times ... \\times 2}_{n} = 2^n\\\\\n",
    "$\n",
    "\n",
    "$\n",
    "\\text{Ex.2 Balls numbered 1 through 10 in a bag. Three balls are removed, without replacement, one at a time (order matters)}\\\\\n",
    "\\ \\ \\ \\ \\text{a) what is $\\Omega$?}\\\\\n",
    "\\ \\ \\ \\ \\text{b) compute $|\\Omega|$}\\\\\n",
    "\\ \\ \\ \\ \\Omega = \\{(1,2,3), (1,2,4), ...\\}\\ \\text{too long to write}\\\\\n",
    "\\ \\ \\ \\ \\Omega = \\{(i,j,k): 1 \\le i,j,k \\le 10, i \\ne j, j \\ne k, i \\ne k\\}\\\\\n",
    "\\ \\ \\ \\ \\text{b)}\\ \\bar{10} \\times \\bar{9} \\times \\bar{8} = 720\\\\\n",
    "$\n",
    "\n",
    "$\n",
    "\\text{Ex.3 # of anagrams of GUITAR}\\\\\n",
    "\\ \\ \\ \\ 6 \\times 5 \\times 4 \\times 3 \\times 2 \\times 1 = 6! = 720\\ \\textbf{(include the word itself)}\\\\\n",
    "$\n",
    "\n",
    "$\n",
    "\\text{Ex.4 # of anagrams of BANANA}\\\\\n",
    "\\ \\ \\ \\ \\text{First}\\ \\textbf{suppose}\\ \\text{we have}\\ B A_1 N_1 A_2 N_2 A_3 \\rightarrow 6!\\ \\text{anagrams}\\\\\n",
    "\\ \\ \\ \\ \\text{But}\\ B A_1 N_1 A_2 N_2 A_3 = B A_2 N_1 A_1 N_2 A_3\\ \\text{without the numbers}\\\\\n",
    "\\ \\ \\ \\ \\text{For each anagram, there are $3!$ ways to rearrange the As and $2!$ ways to rearrange the Ns}\\\\\n",
    "\\ \\ \\ \\ \\text{We}\\ \\textbf{compensate for overcounting}\\text{. Answer is}\\ \\frac{6!}{3!2!} = 60\n",
    "$\n",
    "\n",
    "$\n",
    "\\text{Ex.5 # of anagrams of MILLIMETER}\\\\\n",
    "\\ \\ \\ \\ \\text{Answer is}\\ \\frac{10!}{2!2!2!2!}\\\\\n",
    "$\n",
    "\n",
    "$\n",
    "\\text{Ex.6 Nine basketball players. How many different 5-person teams?}\\\\\n",
    "\\ \\ \\ \\ \\text{players: A B C D E F G H I}\\\\\n",
    "\\ \\ \\ \\ \\text{selection: 0 0 1 1 0 1 0 1 1}\\\\\n",
    "\\ \\ \\ \\ \\text{# of 5-person teams = # of binary strings of length 9 with 5 ones}=\\frac{9!}{5!\\ \\cdot \\ 4!}\\\\\n",
    "$"
   ]
  },
  {
   "cell_type": "markdown",
   "metadata": {},
   "source": [
    "$\n",
    "\\textbf{Binomial coefficient}\\\\ \\ \\\\\n",
    "\\binom{n}{k} = \\frac{n!}{k!(n-k)!}\\ \\text{(\"n choose k\")} = \\text{# of subsets of size k out of n distinct objects}\\\\\n",
    "\\text{In Ex.6, answer is}\\ \\binom{9}{5}.\n",
    "$"
   ]
  },
  {
   "cell_type": "markdown",
   "metadata": {},
   "source": [
    "$\n",
    "\\text{Ex 1.4.1 Nine socks in drawer, 6 orange, 3 blue. Two selected at random.}\\\\\n",
    "\\ \\ \\ \\ \\text{a)}\\ P(\\text{two socks of same color}) = \\frac{\\binom{6}{2} + \\binom{3}{2}}{\\binom{9}{2}}\\\\\n",
    "\\ \\ \\ \\ \\{\\underbrace{1,2,3,4,5,6}_{\\text{orange}},\\underbrace{7,8,9}_{\\text{blue}}\\}\\\\\n",
    "\\ \\ \\ \\ |\\Omega| = \\binom{9}{2}\\\\\n",
    "\\ \\ \\ \\ \\text{b) If three socks are randomly drawn,}\\\\\n",
    "\\ \\ \\ \\ P(\\text{two of them are of the same color}) = 1\\\\\n",
    "$"
   ]
  }
 ],
 "metadata": {
  "kernelspec": {
   "display_name": "Python 3",
   "language": "python",
   "name": "python3"
  },
  "language_info": {
   "codemirror_mode": {
    "name": "ipython",
    "version": 3
   },
   "file_extension": ".py",
   "mimetype": "text/x-python",
   "name": "python",
   "nbconvert_exporter": "python",
   "pygments_lexer": "ipython3",
   "version": "3.7.3"
  }
 },
 "nbformat": 4,
 "nbformat_minor": 2
}
