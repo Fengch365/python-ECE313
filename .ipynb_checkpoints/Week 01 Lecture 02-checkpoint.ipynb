{
 "cells": [
  {
   "cell_type": "markdown",
   "metadata": {},
   "source": [
    "$\n",
    "\\text{Previously}\\\\\n",
    "\\text{Probability space}\\ = (\\Omega, F, P)\\\\\n",
    "$\n",
    "\n",
    "$\n",
    "\\text{Ex Toss a fair coin and roll a die}\\\\\n",
    "\\Omega = \\{(H1), (H2), ..., (H6), (T1), ..., (T6)\\}\\\\\n",
    "F = 2^{\\Omega} \\rightarrow \\text{all possible subsets of}\\ \\Omega\\\\\n",
    "\\ \\ \\ \\ \\text{For event A,}\\ P(A) = \\frac{|A|}{|\\Omega|} \\leftarrow \\text{(because all outcomes are equally likely)}\\\\\n",
    "$\n",
    "\n",
    "$\n",
    "\\text{Note: If $\\Omega$ is a discrete set, then we can set $F = 2^{\\Omega}$.}\\\\\n",
    "\\checkmark \\ \\text{The discrete set can be written as a list (e.g. {1,2,3,...}, all rational numbers)}\\\\\n",
    "\\checkmark \\ \\text{However, when $\\Omega$ is a continuous set (e.g. $\\Omega$ = {all real numbers between 0 and 1}), $F$ is more complicated to define.}\\\\\n",
    "$\n",
    "\n",
    "$\n",
    "\\text{Set operations and Karnaugh Maps}\\\\\n",
    "\\text{Let A,B be events (i.e. $A,B \\in F$). Then}\\ A \\cup B,\\ A \\cap B = AB,\\ A^c\\ \\text{(A complement) are also events}\\\\\n",
    "$\n",
    "\n",
    "$\n",
    "\\text{Ex Roll a die}\\ \\Omega = \\{1,2,3,4,5,6\\}\\\\\n",
    "\\ \\ \\ \\ A = \\{\\text{outcome}\\ \\le 4\\} = {1,2,3,4}\\\\\n",
    "\\ \\ \\ \\ B = \\{\\text{outcome is even}\\} = \\{2,4,6\\}\\\\\n",
    "A \\cup B = \\{1,2,3,4,6\\}\\ \\text{(outcome $\\le 4$ or even)}\\\\\n",
    "AB = \\{2,4\\}\\ \\text{(outcome $\\le 4$ and even)}\\\\\n",
    "A^c = \\{5,6\\}\\ \\text{(outcome is not $\\le 4$)} \\rightarrow \\text{all elements of $\\Omega$ not in A}\\\\\n",
    "$\n",
    "\n",
    "$\n",
    "\\text{Notes}\\\\\n",
    "\\checkmark \\ \\text{For an event E, $EE^c = \\phi,\\ E \\cup E^c = \\Omega$}\\\\\n",
    "\\checkmark \\ \\text{Two events A,B are called mutually exclusive if $AB = \\phi$}\\\\\n",
    "\\checkmark \\ \\text{For two mutually exclusive events A and B, $P(A \\cup B) = P(A) + P(B)$}\\\\\n",
    "$"
   ]
  },
  {
   "cell_type": "markdown",
   "metadata": {},
   "source": [
    "$\n",
    "\\text{Karnaugh Map for two events A and B}\\\\\n",
    "$\n",
    "\n",
    "$\n",
    "\\checkmark \\ \\text{separate rectangles correspond to mutually exclusive events}\\\\\n",
    "\\ \\ \\ \\ \\text{e.g.}\\ AB^c \\cap AB = \\phi\\ \\text{(because any element of $AB^c$ must be in $B^c$ and any element of $AB$ must be in $B$)}\\\\\n",
    "$"
   ]
  },
  {
   "cell_type": "markdown",
   "metadata": {},
   "source": [
    "$\n",
    "\\text{Demorgan's Laws:}\\\\\n",
    "\\checkmark \\ (A \\cup B)^c = A^c B^c\\\\\n",
    "\\checkmark \\ (AB)^c = A^c \\cup B^c\\ \\text{(exercise: check this)}\n",
    "$\n",
    "\n",
    "$\n",
    "P(A \\cup B) = P(A^cB) + P(AB) + P(AB^c) = P(A) + P(B) - P(AB)\\\\\n",
    "$"
   ]
  },
  {
   "cell_type": "markdown",
   "metadata": {},
   "source": [
    "$\n",
    "\\text{Ex (From Fall 2018 midterm) Two fair dice are rolled. Define the events}\\ A = \\{\\text{sum is odd}\\},\\ B = \\{\\text{first die is 1}\\}\\\\\n",
    "\\text{a) Display outcomes in a Karnaugh map}\\\\\n",
    "\\begin{matrix}\n",
    "B^c & B & \\ \\\\\n",
    "... & (1,1),(1,3),(1,5) & A^c\\\\\n",
    "... & (1,2),(1,4),(1,6) & A\\\\\n",
    "\\end{matrix}\\\\\n",
    "\\text{b) Calculate}\\ P(AB)\\ \\text{since all outcomes are equally likely,}\\\\\n",
    "\\ \\ \\ \\ P(AB) = \\frac{{|AB|}|\\Omega|} = \\frac{3}{36} = \\frac{1}{12}\\\\\n",
    "\\text{c) Calculate}\\ P(A \\cup B) = P(\\text{sum is odd or first is 1}) = \\frac{|A \\cup B|}{36} = \\frac{15+3+3}{36}\\\\\n",
    "$"
   ]
  }
 ],
 "metadata": {
  "kernelspec": {
   "display_name": "Python 3",
   "language": "python",
   "name": "python3"
  },
  "language_info": {
   "codemirror_mode": {
    "name": "ipython",
    "version": 3
   },
   "file_extension": ".py",
   "mimetype": "text/x-python",
   "name": "python",
   "nbconvert_exporter": "python",
   "pygments_lexer": "ipython3",
   "version": "3.7.3"
  }
 },
 "nbformat": 4,
 "nbformat_minor": 2
}
