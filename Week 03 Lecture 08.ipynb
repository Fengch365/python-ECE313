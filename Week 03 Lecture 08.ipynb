{
 "cells": [
  {
   "cell_type": "markdown",
   "metadata": {},
   "source": [
    "$\n",
    "\\textbf{Previously,}\\\\ \\ \\\\\n",
    "\\bullet \\text{Random variables}\\\\\n",
    "\\bullet \\text{Discrete-type RVs (range of X is finite or countable infinite, e.g. X = sum of two fair dice)}\\\\\n",
    "\\ \\ \\ \\ \\bullet \\text{pmf: $P_X(i) = P(\\{X=i\\})$}\\\\\n",
    "\\ \\ \\ \\ \\bullet \\text{mean (or expectation):}\\ E[X] = \\sum_i iP_X(i) = \\mu_X\\ \\text{(sum over all i in range of X)}\\\\\n",
    "\\ \\ \\ \\ \\bullet \\text{variance:}\\ \\text{Var} (X) = E[(X-\\mu_X)^2] = E[X^2] - \\mu_X^2\\\\\n",
    "\\bullet \\text{Conditional probabilities}\\\\\n",
    "\\ \\ \\ \\ P(B|A) = \\begin{cases}\n",
    "\\frac{P(AB)}{P(A)}, & P(A) > 0\\\\\n",
    "\\text{undefined}, & P(A) = 0\\\\\n",
    "\\end{cases}\\\\\n",
    "$"
   ]
  },
  {
   "cell_type": "markdown",
   "metadata": {},
   "source": [
    "$\n",
    "\\textbf{Independent of events}\\\\ \\ \\\\\n",
    "\\textbf{Definition:}\\\\\n",
    "\\text{Events A and B are independent, if}\\ P(AB) = P(A)P(B)\\\\\n",
    "\\textbf{Note:}\\ \\text{If AB are independent and $P(A) \\ne 0$,}\\ P(B|A) = \\frac{P(AB)}{P(A)} = \\frac{P(A)P(B)}{P(A)} = P(B)\\\\\n",
    "\\text{In words, knowing that A happened doesn't change probability of B.}\\\\ \\ \\\\\n",
    "\\textbf{Ex 2.4.2}\\ \\text{Toss one coin. Roll a die.}\\\\\n",
    "\\ \\ \\ \\ \\Omega = \\{H1, H2, ..., H6, T1, T2, ..., T6\\}\\ \\text{(all equally likely)}\\\\\n",
    "\\ \\ \\ \\ A = \\{\\text{coin lands heads}\\} = \\{H1, H2, ..., H6\\} \\rightarrow P(A) = \\frac{6}{12} = \\frac{1}{2}\\\\\n",
    "\\ \\ \\ \\ B = \\{\\text{die shows 6}\\} = \\{H6, T6\\} \\rightarrow P(B) = \\frac{2}{12} = \\frac{1}{6}\\\\\n",
    "\\ \\ \\ \\ P(AB) = P(\\{H6\\}) = \\frac{1}{12} = P(A)P(B) \\rightarrow \\text{A and B are independent}\\\\ \\ \\\\\n",
    "\\textbf{Ex 2.4.3}\\ \\text{Roll a single die.}\\\\\n",
    "\\ \\ \\ \\ A = \\{\\text{die shows even number}\\} = \\{2,4,6\\} \\rightarrow P(A) = \\frac{1}{2}\\\\\n",
    "\\ \\ \\ \\ B = \\{\\text{outcome is a multiple of 3}\\} = \\{3,6\\} \\rightarrow P(B) = \\frac{1}{3}\\\\\n",
    "\\ \\ \\ \\ P(AB) = P(\\{6\\}) = \\frac{1}{6} = P(A)P(B) \\rightarrow \\text{A and B are independent}\\\\ \\ \\\\\n",
    "\\textbf{Note:}\\ \\text{If $A$ and $B$ are independent, $A$ and $B^c$ are independent, too.}\\\\\n",
    "\\ \\ \\ \\ \\text{Proof:}\\ P(AB^c) = P(A) - P(AB) = P(A) - P(A)P(B) = P(A)(1-P(B)) = P(A)P(B^c)\\\\ \n",
    "\\ \\ \\ \\ \\text{Similarly, if $A$ and $B$ are independent, $A^c$ and $B$ or $A^c$ and $B^c$ are independent.}\\\\ \\ \\\\\n",
    "\\textbf{Note:}\\ \\text{Don't confuse independent events and mutually exclusive events.}\\\\\n",
    "\\ \\ \\ \\ \\text{If A and B are independent,}\\ P(AB) = P(A)P(B)\\\\\n",
    "\\ \\ \\ \\ \\text{If A and B are mutually exclusive,}\\ AB = \\phi,\\ P(A\\cup B)=P(A) + P(B)\\\\\n",
    "$"
   ]
  },
  {
   "cell_type": "markdown",
   "metadata": {},
   "source": [
    "$\n",
    "\\textbf{Independence for more than 2 events}\\\\ \\ \\\\\n",
    "\\text{Consider events}\\ A_1,A_2,...,A_n\\\\\n",
    "\\text{Pairwise independence (}\\textbf{weak notion}\\text{):}\\\\\n",
    "\\ \\ \\ \\ \\text{$A_1$, ..., $A_n$ are pairwise independent,}\\\\\n",
    "\\ \\ \\ \\ \\text{if}\\ P(A_iA_j) = P(A_i)P(A_j)\\ \\text{for every}\\ i \\ne j.\\\\\n",
    "\\text{Mutual Independence (}\\textbf{strong notion}\\text{):}\\\\\n",
    "\\ \\ \\ \\ \\text{$A_1$, ..., $A_n$ are independent if}\\\\\n",
    "\\ \\ \\ \\ P(A_{i_1}A_{i_2}...A_{i_k}) = P(A_{i_1})P(A_{i_2})...P(A_{i_k})\\\\\n",
    "\\ \\ \\ \\ \\text{for every choice of}\\ i_1 < i_2 < ... < i_k,\\ k \\le n.\\\\\n",
    "\\text{Ex. A,B,C are independent if}\\ P(AB) = P(A)P(B),\\ P(BC) = P(B)P(C),\\ P(AC) = P(A)P(C),\\ P(ABC) = P(A)P(B)P(C)\\\\ \\ \\\\\n",
    "\\textbf{Ex 2.4.5}\\ \\text{Two fair coins are tossed.}\\\\\n",
    "\\ \\ \\ \\ \\Omega = \\{HH,HT,TH,TT\\}\\\\\n",
    "\\ \\ \\ \\ A = \\{\\text{first coin is H}\\} = \\{HH,HT\\}\\\\\n",
    "\\ \\ \\ \\ B = \\{\\text{second coin is H}\\} = \\{HH,TH\\}\\\\\n",
    "\\ \\ \\ \\ C = \\{\\text{both coins land the same}\\} = \\{HH,TT\\}\\\\\n",
    "\\ \\ \\ \\ P(AB) = P(\\{HH\\}) = \\frac{1}{4} = P(A)P(B)\\\\\n",
    "\\ \\ \\ \\ P(AC) = P(\\{HH\\}) = \\frac{1}{4} = P(A)P(C)\\\\\n",
    "\\ \\ \\ \\ P(BC) = P(\\{HH\\}) = \\frac{1}{4} = P(B)P(C)\\\\\n",
    "\\ \\ \\ \\ \\rightarrow \\text{A,B,C are pairwise independent.}\\\\\n",
    "\\ \\ \\ \\ P(ABC) = P(\\{HH\\}) = \\frac{1}{4} \\ne P(A)P(B)P(C) \\rightarrow \\text{A,B,C are not independent}\\\\\n",
    "$"
   ]
  },
  {
   "cell_type": "markdown",
   "metadata": {},
   "source": [
    "$\n",
    "\\textbf{Independent RVs}\\\\ \\ \\\\\n",
    "\\textbf{Definition:}\\\\\n",
    "\\text{RVs X and Y are independent, if any event of the form $\\{X \\in A\\}$}\\\\\n",
    "\\text{is independent of any event of the form $\\{Y \\in B\\}$.}\\\\ \\ \\\\\n",
    "\\textbf{Ex.}\\ \\text{Toss a coin twice. Let X be the number of heads. Now toss it two}\\\\\n",
    "\\text{more times and let Y be the number of heads in these two tosses.}\\\\\n",
    "P(\\{X < 2\\ \\text{and}\\ Y>1\\}) = P(X<2)P(Y>1) = \\frac{3}{4}\\cdot \\frac{1}{4} = \\frac{3}{16}\\ \\text{(independent events)}\n",
    "$"
   ]
  }
 ],
 "metadata": {
  "kernelspec": {
   "display_name": "Python 3",
   "language": "python",
   "name": "python3"
  },
  "language_info": {
   "codemirror_mode": {
    "name": "ipython",
    "version": 3
   },
   "file_extension": ".py",
   "mimetype": "text/x-python",
   "name": "python",
   "nbconvert_exporter": "python",
   "pygments_lexer": "ipython3",
   "version": "3.7.3"
  }
 },
 "nbformat": 4,
 "nbformat_minor": 2
}
