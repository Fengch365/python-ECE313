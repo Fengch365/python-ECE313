{
 "cells": [
  {
   "cell_type": "markdown",
   "metadata": {},
   "source": [
    "$\n",
    "\\textbf{Previously}\\\\\n",
    "\\bullet \\text{Confidence interval}\\\\\n",
    "\\ \\ \\ \\ \\text{$X$ is Binomial$(n,p)$, $p$ unknown}\\\\\n",
    "\\ \\ \\ \\ \\text{ML estimator for $p$ is}\\ \\hat{p}_{ML} = \\frac{X}{n}\\\\\n",
    "\\ \\ \\ \\ P\\{p\\in (\\hat{p}_{ML}-\\frac{a}{2\\sqrt{n}},\\ \\hat{p}_{ML}+\\frac{a}{2\\sqrt{n}})\\} \\ge 1-\\frac{1}{a^2}\\\\\n",
    "\\bullet \\text{Law of Total Probability}\\\\\n",
    "\\ \\ \\ \\ E_1, E_2, .., E_k\\ \\text{are a partition of}\\ \\Omega \\rightarrow E_iE_j=\\phi,\\ E_1 \\cup E_2\\ \\cup \\ ...\\ \\cup\\ E_k = \\Omega\\\\\n",
    "\\ \\ \\ \\ P(A) = P(AE_1) + P(AE_2)\\ +\\  ...\\ +\\ P(AE_k)\\\\\n",
    "\\ \\ \\ \\ = P(A|E_1)P(E_1) + P(A|E_2)P(E_2) + ... + P(A|E_k)P(E_k),\\ \\text{if} P(E_i)\\ne 0\\ \\text{for all $i$}\\\\\n",
    "$"
   ]
  },
  {
   "cell_type": "markdown",
   "metadata": {},
   "source": [
    "$\n",
    "\\textbf{Bayes' formula}\\\\\n",
    "\\ \\\\\n",
    "P(E_i|A) = \\frac{P(E_i A)}{P(A)} = \\frac{P(A|E_i)P(E_i)}{P(A)} = \\frac{P(A|E_i)P(E_i)}{P(A|E_1)P(E_1) + P(A|E_2)P(E_2) + ... + P(A|E_k)P(E_k)}\\\\\n",
    "\\ \\\\\n",
    "\\bullet \\text{special case}\\ E_1 = B,\\ E_2 = B^c\\\\\n",
    "\\ \\ \\ P(B|A) = \\frac{P(A|B)P(B)}{P(A|B)P(B)+P(A|B^c)P(B^c)}\\\\\n",
    "\\ \\\\\n",
    "\\textbf{Ex}\\ \\text{$B$ = {you have the disease}, $A$ = {test is positive}. Want to know $P(B|A)$}\\\\\n",
    "\\ \\ \\ \\ \\text{We know that $P(A|B)=0.9$, $P(A|B^c)=0.1$, $P(B)=10^{-4}$}\\\\\n",
    "\\ \\ \\ \\ P(B|A) = \\frac{0.9 \\times 10^{-4}}{0.9 \\times 10^{-4} + 0.1\\times (1-10^{-4})} \\approx \n",
    "\\frac{0.9 \\times 10^{-4}}{0.9 \\times 10^{-4} + 0.1} \\approx 0.9 \\times 10^{-3}\\\\\n",
    "\\ \\\\\n",
    "\\textbf{Ex 2.10.1}\\ \\text{Three dice in bag. One has one red face, one has two red faces, and one has three.}\\\\\n",
    "\\text{One die is chosen at random and rolled several times.}\\\\\n",
    "\\ \\ \\ \\ \\text{a) What is the probability of seeing red on first roll? (use the law of total probability)}\\\\\n",
    "\\ \\ \\ \\ P(R_1) = P(R_1|E_1)P(E_1) + P(R_1|E_2)P(E_2) + P(R_1|E_3)P(E_3)\\\\\n",
    "\\ \\ \\ \\ = \\frac{1}{6}\\times \\frac{1}{3} + \\frac{2}{6}\\times \\frac{1}{3} + \\frac{3}{6}\\times \\frac{1}{3} = \\frac{1}{3}\\\\\n",
    "\\ \\ \\ \\ \\text{b) Given red on first roll, what is the conditional probability of red on second roll?}\\\\\n",
    "\\ \\ \\ \\ P(R_2|R_1) = \\frac{P(R_1R_2)}{P(R_1)}\\\\\n",
    "\\ \\ \\ \\ \\because P(R_1R_2) = P(R_1R_2|E_1)P(E_1) + P(R_1R_2|E_2)P(E_2) +P(R_1R_2|E_3)P(E_3)\\\\\n",
    "\\ \\ \\ \\ \\ \\ \\ \\ = (\\frac{1}{6})^2 \\times \\frac{1}{3} + (\\frac{2}{6})^2 \\times \\frac{1}{3} + (\\frac{3}{6})^2 \\times \\frac{1}{3}\\\\\n",
    "\\ \\ \\ \\ \\therefore P(R_2|R_1) = \\frac{P(R_1R_2)}{P(R_1)} = \\frac{1+4+9}{36} = \\frac{7}{18}\\\\\n",
    "\\ \\ \\ \\ \\text{c) If first three rolls are red, what is the conditional probability that I choose the die with three red faces?}\\\\\n",
    "\\ \\ \\ \\ P(E_3|R_1R_2R_3) = \\frac{P(R_1R_2R_3|E_3)P(E_3)}{P(R_1R_2R_3)} = \n",
    "\\frac{(\\frac{3}{6})^3\\times \\frac{1}{3}}{P(R_1R_2R_3|E_1)P(E_1)+P(R_1R_2R_3|E_2)P(E_2)+P(R_1R_2R_3|E_3)P(E_3)}\\\\\n",
    "\\ \\ \\ \\ = \\frac{(\\frac{3}{6})^3}{(\\frac{1}{6})^3+(\\frac{2}{6})^3+(\\frac{3}{6})^3} = \\frac{27}{1+8+27} = \\frac{3}{4}\\\\\n",
    "\\ \\\\\n",
    "\\textbf{Ex 2.10.2}\\ \\text{Roll a die, let $X$ be # shown. Flip a coin $X$ times. Let Y be # of heads.}\\\\\n",
    "\\ \\ \\ \\ \\text{a)}\\ P\\{Y=3\\} = \\sum_{i=1}^{6} P(Y=3|X=i)P(X=i)\\ \\text{(law of total probability)}\\\\\n",
    "\\ \\ \\ \\ \\ \\ \\ \\ = \\frac{1}{6} [0+0+(\\frac{1}{2})^3 + \\binom{4}{3}(\\frac{1}{2})^3 (1-\\frac{1}{2}) + \\binom{5}{3}(\\frac{1}{2})^3 (1-\\frac{1}{2})^2 + \\binom{6}{3}(\\frac{1}{2})^3 (1-\\frac{1}{2})^3] = \\frac{1}{6}\\\\\n",
    "\\ \\ \\ \\ \\text{b)}\\ P(X=3|Y=3) = \\frac{P(Y=3|X=3)P(X=3)}{P(Y=3)}= \\frac{(\\frac{1}{2})^3\\times \\frac{1}{6}}{\\frac{1}{6}} = \\frac{1}{8}\\\\\n",
    "$"
   ]
  }
 ],
 "metadata": {
  "kernelspec": {
   "display_name": "Python 3",
   "language": "python",
   "name": "python3"
  },
  "language_info": {
   "codemirror_mode": {
    "name": "ipython",
    "version": 3
   },
   "file_extension": ".py",
   "mimetype": "text/x-python",
   "name": "python",
   "nbconvert_exporter": "python",
   "pygments_lexer": "ipython3",
   "version": "3.7.3"
  }
 },
 "nbformat": 4,
 "nbformat_minor": 2
}
