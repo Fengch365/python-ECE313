{
 "cells": [
  {
   "cell_type": "markdown",
   "metadata": {},
   "source": [
    "$\n",
    "\\textbf{Bernoulli}(p)\\\\\n",
    "P\\{X=1\\} = p,\\ P\\{X=0\\} = 1-p\\\\\n",
    "E[X] = p,\\ \\text{Var}(X) = p(1-p)\n",
    "$"
   ]
  },
  {
   "cell_type": "markdown",
   "metadata": {},
   "source": [
    "$\n",
    "\\textbf{Binomial}(n,p)\\\\\n",
    "p_X(k) = \\binom{n}{k} p^k (1-p)^{n-k},\\ k=0,1,...,n\\\\\n",
    "E[X] = np,\\ \\text{Var}(X) = np(1-p)\\\\\n",
    "\\text{mode is the value of k that maximizes}\\ p_X(k)\\\\\n",
    "\\text{mode}_{\\text{binomial}} = \\lfloor (n+1)p \\rfloor\n",
    "$"
   ]
  },
  {
   "cell_type": "markdown",
   "metadata": {},
   "source": [
    "$\n",
    "\\textbf{Geometric}(p)\\\\\n",
    "p_L(k) = (1-p)^{k-1}p,\\ k=1,2,3,...\\\\\n",
    "E[L] = 1\\cdot E[X_1] + E[1+\\tilde{L}](1-E[X_1])\\\\\n",
    "E[L] = p\\times 1 + (1-p)E[1+\\tilde{L}]\\\\\n",
    "pE[L] = 1 \\Rightarrow E[L] = \\frac{1}{p}\\\\\n",
    "\\text{Var}(L) = \\frac{1-p}{p^2},\\ P\\{L>k\\} = (1-p)^k\\\\\n",
    "P(L>k+n|L>n) = P(L>k)\n",
    "$"
   ]
  },
  {
   "cell_type": "markdown",
   "metadata": {},
   "source": [
    "$\n",
    "\\textbf{Poisson}(\\lambda),\\ \\lambda > 0\\\\\n",
    "P_X(k) = \\frac{e^{-\\lambda} \\lambda^k}{k!},\\ k=0,1,2,...\\\\\n",
    "n\\to \\infty,\\ p\\to 0,\\ \\lambda = np\\\\\n",
    "\\Rightarrow \\text{Binomial}(n,p)\\to \\text{Poisson}(\\lambda)\\\\\n",
    "E[X] = \\lambda,\\ \\text{Var}(X) = \\lambda\n",
    "$"
   ]
  },
  {
   "cell_type": "markdown",
   "metadata": {},
   "source": [
    "$\n",
    "\\textbf{ML Parameter Estimation}\\\\\n",
    "\\text{View $p_\\theta(k)$ as a function of $\\theta$ (k is fixed)}\\\\\n",
    "\\text{and find $\\theta$ that maximizes}\\ \\underbrace{P_\\theta(k)}_{\\text{likelihood that $X=k$}}\\ \n",
    "$"
   ]
  },
  {
   "cell_type": "markdown",
   "metadata": {},
   "source": [
    "$\n",
    "\\textbf{Markov's Inequality}\\\\\n",
    "\\text{If $Y$ is a non-negative RV, then}\\\\\n",
    "\\text{for any $c>0$,}\\ P\\{Y\\ge c\\} \\le \\frac{E[Y]}{c}\\\\ \n",
    "\\textbf{Chebychev's Inequality}\\\\\n",
    "\\text{For a RV $X$ with mean $\\mu$ and variance $\\sigma^2$,}\\\\\n",
    "\\text{for any $d>0$,}\\ \n",
    "\\underbrace{P\\{|X-\\mu|\\ge d\\}}_{\\text{deviation from mean}} \\le \\frac{\\text{Var}(X)}{d^2} = \\frac{\\sigma^2}{d^2}\\\\\n",
    "$"
   ]
  }
 ],
 "metadata": {
  "kernelspec": {
   "display_name": "Python 3",
   "language": "python",
   "name": "python3"
  },
  "language_info": {
   "codemirror_mode": {
    "name": "ipython",
    "version": 3
   },
   "file_extension": ".py",
   "mimetype": "text/x-python",
   "name": "python",
   "nbconvert_exporter": "python",
   "pygments_lexer": "ipython3",
   "version": "3.7.3"
  }
 },
 "nbformat": 4,
 "nbformat_minor": 2
}
