{
 "cells": [
  {
   "cell_type": "markdown",
   "metadata": {},
   "source": [
    "$\n",
    "\\textbf{Previously}\\\\\n",
    "\\bullet \\text{Geometic}(p)\\ \\text{(# of Bernoulli$(p)$ trials until first 1)}\\\\\n",
    "\\ \\ \\ \\ \\bullet \\text{If $L$ has Geometic$(p)$ distribution,}\\ E[L]=\\frac{1}{p},\\ \\text{Var}(L)=\\frac{1-p}{p^2}\\\\\n",
    "\\ \\ \\ \\ \\bullet \\text{Memoryless property:}\\ P(L>n+k|L>n)=P(L>k)\\\\\n",
    "$"
   ]
  },
  {
   "attachments": {
    "image.png": {
     "image/png": "[encoded data removed]"
    }
   },
   "cell_type": "markdown",
   "metadata": {},
   "source": [
    "$\n",
    "\\textbf{Bernoulli Process}\\\\ \\ \\\\\n",
    "\\textbf{Definition:}\\\\\n",
    "\\text{Infinite sequence of independent Bernoulli$(p)$ RVs e.g. $X_1,X_2,X_3,...$}\\ \\text{(Process is a sequence of RVs)}\\\\\n",
    "\\text{A sample path of the Bernoulli process, i.e. a realization}\n",
    "$\n",
    "![image.png](attachment:image.png)\n",
    "$\n",
    "\\bullet \\text{$L_i$ has Geometric$(p)$, for $i=1,2,3,4,...$}\\\\\n",
    "\\ \\ \\ \\ \\text{Moreover, $L_i$'s are all independent.}\\\\\n",
    "\\bullet \\text{Cumulative number of successes by time k.}\\ X_1+X_2+...+X_k=C_k\\\\\n",
    "\\ \\ \\ \\ C_k\\ \\text{has Binomial$(n,p)$ distribution}\\\\\n",
    "\\bullet \\text{For $l>k$, $C_l-C_k$ is the increment in the interval $(k,l]$}\\\\\n",
    "\\ \\ \\ \\ C_l-C_k = (X_1+X_2+...+X_l)-(X_1+X_2+...+X_k)=X_{k+1}+...+X_l\\\\\n",
    "\\ \\ \\ \\ C_l-C_k\\ \\text{has a Binomial$(l-k, p)$ distribution}\\\\ \\ \\\\\n",
    "\\textbf{Ex}\\ \\text{Let $X_1,X_2,...$ be a Bernoulli$(p)$ process. Let $S_r$ be # of trials}\\\\\n",
    "\\text{until $r$ successes are observed. Find pmf of $S_r$.}\\\\\n",
    "\\ \\ \\ \\ \\underbrace{[r-1\\ \\text{successes}]\\ 1}_{k}\\\\\n",
    "\\ \\ \\ \\ P(S_r=k)=\\binom{k-1}{r-1} p^{r-1} (1-p)^{(k-1)-(r-1)}p=\\binom{k-1}{r-1} p^r (1-p)^{k-r} \\rightarrow \\text{Negative Binomial distribution}\n",
    "$"
   ]
  },
  {
   "cell_type": "markdown",
   "metadata": {},
   "source": [
    "$\n",
    "\\textbf{Poisson Distribution}\\\\ \\ \\\\\n",
    "\\textbf{Definition:}\\\\\n",
    "\\text{If $X$ has Poisson$(\\lambda)$ distribution for $\\lambda>0$, then its pmf is}\\\\\n",
    "\\ \\ \\ \\ P_X(k)=\\frac{e^{-\\lambda} \\lambda^k}{k!},\\ \\text{for}\\ k=0,1,2,...\\ \\text{(discrete)}\\\\\n",
    "\\ \\ \\ \\ \\text{Note:}\\ P_X(0)=\\frac{e^{-\\lambda} \\lambda^0}{0!}=e^{-\\lambda}\\\\\n",
    "\\bullet \\text{The Poisson$(\\lambda)$ distribution can be seen as an approximation of Binomial$(n,p)$}\\\\\n",
    "\\ \\ \\ \\text{when $n$ is large, $p$ is small and $\\lambda=np$}\\\\\n",
    "\\ \\ \\ \\ \\text{Suppose $X$ is Binomial$(n,p)$ and let $\\lambda=np.$}\\ P_X(k)=\\binom{n}{k}p^k (1-p)^{n-k}\\\\\n",
    "\\ \\ \\ \\ P_X(0) = \\binom{n}{0}p^0 (1-p)^{n} = (1-\\frac{\\lambda}{n})^n \\rightarrow e^{-\\lambda}\\ \\text{as}\\ n\\rightarrow \\infty\\\\\n",
    "\\ \\ \\ \\ \\text{Fact from Calculus}\\ \\lim_{n\\to\\infty}(1-\\frac{\\lambda}{n})^n = e^{-\\lambda}\\\\\n",
    "\\ \\ \\ \\ \\text{In general, we can show that}\\ \\lim_{n\\to\\infty}P_X(k) = \\frac{e^{-\\lambda}\\lambda^k}{k!}\\ \\text{(Try it)}\\\\\n",
    "\\bullet \\text{Applications:}\\\\\n",
    "\\ \\ \\ \\ \\bullet \\text{# of phone calls in a city in a 1-hour period}\\\\\n",
    "\\ \\ \\ \\ \\bullet \\text{# of mispelled words in document}\\\\\n",
    "\\bullet \\text{mean of Poisson$(\\lambda)$:}\\ E[X]=\\lambda \\leftarrow \\text{(mean of Binomial$(n,p)$ is $np$, Poisson$(\\lambda)\\approx$ Binomial$(n,p)$ for $\\lambda=np$)}\\\\\n",
    "\\bullet \\text{variance:}\\ \\text{Var}(X)=\\lambda \\leftarrow \\text{(variance of Binomial$(n,p)$ is $np(1-p)$, a good guess for Poisson $n(\\frac{\\lambda}{n})(1-\\frac{\\lambda}{n})\\approx \\lambda$)}\\\\ \\ \\\\\n",
    "\\textbf{Ex}\\ \\text{# of emails I receive in 1 hour is Poisson$(5)$. Let $X$ = # of emails in one hour.}\\\\\n",
    "\\ \\ \\ \\ \\text{a) What is $P${I receive no emails in 1 hour} $= P\\{X=0\\}=e^{-5}$}\\\\\n",
    "\\ \\ \\ \\ \\text{b)}\\ P\\{X>3\\}=1-P\\{X\\le 3\\}=1-[P_X(0)+P_X(1)+P_X(2)+P_X(3)]\\\\\n",
    "$"
   ]
  }
 ],
 "metadata": {
  "kernelspec": {
   "display_name": "Python 3",
   "language": "python",
   "name": "python3"
  },
  "language_info": {
   "codemirror_mode": {
    "name": "ipython",
    "version": 3
   },
   "file_extension": ".py",
   "mimetype": "text/x-python",
   "name": "python",
   "nbconvert_exporter": "python",
   "pygments_lexer": "ipython3",
   "version": "3.7.3"
  }
 },
 "nbformat": 4,
 "nbformat_minor": 2
}
