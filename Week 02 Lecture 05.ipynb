{
 "cells": [
  {
   "cell_type": "markdown",
   "metadata": {},
   "source": [
    "$\n",
    "\\textbf{Three-event Karnaugh Map}\\\\\n",
    "$"
   ]
  },
  {
   "cell_type": "markdown",
   "metadata": {},
   "source": [
    "$\n",
    "\\text{Problem 1.5: Roll two dice: A={sum is even}, B={sum is a multiple of 3}, C={first die < second die}}\\\\\n",
    "\\ \\ \\ \\ \\text{a) Display outcomes in a K-map}\\\\\n",
    "\\ \\ \\ \\ \\ \\ \\ \\ \\begin{matrix}\n",
    "B^c & B^c & B & B & \\ \\\\\n",
    "41,32,61,52,43,65 & 14,23,16,25,34,56 & 12,36,45 & 21,63,54 & A^c \\\\\n",
    "... & ... & 15,24 & 51,42,33,66 & A \\\\\n",
    "C^c & C & C & C^c & \\ \\\\\n",
    "\\end{matrix}\\\\\n",
    "\\ \\ \\ \\ \\ \\ \\ \\ \\text{focus on sum}\\\\\n",
    "\\ \\ \\ \\ \\ \\ \\ \\ \\begin{matrix}\n",
    "B^c\\text{(not mult of 3)} & B\\text{(mult of 3)} & \\ \\\\\n",
    "\\text{sum is 5,7,11} & \\text{sum is 3,9} & A^c\\text{(odd)}\\\\ \n",
    "\\text{sum is 2,4,8,10} & \\text{sum is 6,12} & A\\text{(even)}\\\\\n",
    "\\end{matrix}\\\\\n",
    "\\ \\ \\ \\ \\text{b)}\\ P(ABC) = \\frac{|ABC|}{|\\Omega|} = \\frac{2}{36} = \\frac{1}{18}\\\\\n",
    "\\ \\ \\ \\ \\text{c)}\\ P((A \\cup B)C) = \\frac{2+7}{36} = \\frac{1}{4}\\\\\n",
    "$"
   ]
  },
  {
   "cell_type": "markdown",
   "metadata": {},
   "source": [
    "$\n",
    "\\text{Problem 1.13: Three newspapers in town A,B,C. Probability that a person reads them is described by a K-map}\\\\\n",
    "\\ \\ \\ \\ \\begin{matrix}\n",
    "B^c & B^c & B & B & \\ \\\\\n",
    "0.68 & 0 & 0.03 & 0.19 & A^c \\\\\n",
    "0.01 & 0.01 & 0.01 & 0.07 & A \\\\\n",
    "C^c & C & C & C^c & \\ \\\\\n",
    "\\end{matrix}\\\\\n",
    "\\ \\ \\ \\ \\text{a)}\\ P(A) = 0.01+0.01+0.01+0.07 = 0.1\\\\\n",
    "\\ \\ \\ \\ \\text{b)}\\ P(\\text{person reads at least two newspapers}) = 0.01+0.01+0.07+0.03 = 0.12\\\\\n",
    "\\ \\ \\ \\ \\text{c)}\\ P(\\text{person doesn't read any newspaper}) = 0.68\\\\\n",
    "$"
   ]
  },
  {
   "cell_type": "markdown",
   "metadata": {},
   "source": [
    "$\n",
    "\\textbf{More counting problems:}\\\\\n",
    "$"
   ]
  },
  {
   "cell_type": "markdown",
   "metadata": {},
   "source": [
    "$\n",
    "\\text{Problem 1.9: 8 socks numbered 1 through 8 in a bag. 2 blue, 2 red, 2 green, and 2 yellow.}\\\\\n",
    "\\text{4 people draw two socks each. Order of draws doesn't matter}\\\\\n",
    "\\ \\ \\ \\ \\text{M = {each person gets matching socks}}\\\\\n",
    "\\ \\ \\ \\ \\text{a) Compute cardinality of $\\Omega$ (or $|\\Omega|$)}\\\\\n",
    "\\ \\ \\ \\ |\\Omega| = \\text{# of ways to assign the eight socks to the 4 people} = \\underbrace{\\binom{8}{2}}_{\\text{person1}}\\ \\underbrace{\\binom{6}{2}}_{\\text{person2}}\\ \\underbrace{\\binom{4}{2}}_{\\text{person3}}\\ \\underbrace{\\binom{2}{2}}_{\\text{person4}}\n",
    "= \\frac{8!}{2^4}\\\\\n",
    "\\ \\ \\ \\ \\text{(Note: compare with problem of assigning students to teams)}\\\\\n",
    "\\ \\ \\ \\ \\text{b) Find}\\ |M|\\\\\n",
    "\\ \\ \\ \\ |M| = \\text{# of ways to assign 4 colors to 4 people} = 4!\\\\\n",
    "\\ \\ \\ \\ \\text{c)}\\ P(M) = \\frac{|M|}{|\\Omega|} = \\frac{4! \\times 2^4}{8!} = \\frac{1}{105}\\\\\n",
    "\\ \\ \\ \\ \\text{d) Compute $P(M)$ in a different way}\\\\\n",
    "\\ \\ \\ \\ P(\\text{first person gets matching socks}) = \\frac{1}{7}\\\\\n",
    "\\ \\ \\ \\ P(\\text{second person gets matching socks}) = \\frac{1}{5}\\\\\n",
    "\\ \\ \\ \\ P(\\text{third person gets matching socks}) = \\frac{1}{3}\\\\\n",
    "\\ \\ \\ \\ P(\\text{forth person gets matching socks}) = \\frac{1}{1}\\\\\n",
    "\\ \\ \\ \\ P(M) = \\frac{1}{7} \\cdot \\frac{1}{5} \\cdot \\frac{1}{3} \\cdot 1 = \\frac{1}{7\\times 5\\times 3}\\\\\n",
    "$"
   ]
  },
  {
   "cell_type": "markdown",
   "metadata": {},
   "source": [
    "$\n",
    "\\text{Example (circular permutations)}\\rightarrow \\textbf{fix one person's location}\\\\\n",
    "\\text{We have a round table with 6 seats.}\\\\\n",
    "\\ \\ \\ \\ \\text{a) In how many ways can we seat 6 people?}\\\\\n",
    "\\ \\ \\ \\ \\text{(Each seating has six equivalent rotations) or (one person is fixed so that no rotation can happen)} \\Rightarrow \\text{# of ways} = \\frac{6!}{6} = 5!\\\\\n",
    "\\ \\ \\ \\ \\text{b) We have 3 men and 3 women. In how many ways can we seat them so that no two men are next to each other?}\\\\\n",
    "\\ \\ \\ \\ \\text{fix woman 1's position}\\rightarrow \\underbrace{2!}_{\\text{other two women}}\\times \\underbrace{3!}_{arrange men's position} = 12\\\\\n",
    "$"
   ]
  }
 ],
 "metadata": {
  "kernelspec": {
   "display_name": "Python 3",
   "language": "python",
   "name": "python3"
  },
  "language_info": {
   "codemirror_mode": {
    "name": "ipython",
    "version": 3
   },
   "file_extension": ".py",
   "mimetype": "text/x-python",
   "name": "python",
   "nbconvert_exporter": "python",
   "pygments_lexer": "ipython3",
   "version": "3.7.3"
  }
 },
 "nbformat": 4,
 "nbformat_minor": 2
}
