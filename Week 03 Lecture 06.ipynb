{
 "cells": [
  {
   "cell_type": "markdown",
   "metadata": {},
   "source": [
    "$\n",
    "\\textbf{Random Variables}\\\\ \\ \\\\\n",
    "\\textbf{Definition:}\\\\\n",
    "\\text{For a probability space $(\\Omega, F, P)$, a random variable (r.v) is a real-valued function on $\\Omega$.}\\ \\Rightarrow X:\\ \\Omega \\rightarrow \\mathbb{R}\\\\\n",
    "\\ \\ \\ \\ \\bullet X(\\omega) \\in \\mathbb{R}\\ \\text{is the value of r.v $X$ for outcome}\\ \\omega \\in \\Omega\\ -\\ \\text{We denote the range of $X$ by $\\chi$.}\\\\ \\ \\\\\n",
    "\\bullet \\text{Random variable can be used to define events of an experiment:}\\\\\n",
    "\\ \\ \\ \\ \\text{For $A \\subseteq \\mathbb{R}$, define the event $E=\\{\\omega \\in \\Omega:\\ X(\\omega)\\in A\\}$ ($E$ is also denoted as $\\{X\\in A\\}$)}\\\\\n",
    "\\ \\ \\ \\ \\ \\ \\ \\ \\text{The probability of this event is $P(E)=P\\{X\\in A\\}$.}\\\\ \\ \\\\\n",
    "\\textbf{Example 1:}\\\\\n",
    "\\text{Consider an experiment where one of four students is randomly chosen with equal probability: {Alice, Bob, Charlie, David}.}\\\\\n",
    "\\text{Let $X$ be a r.v. for the number of letters in the student's name. Let}\\ E=\\{\\omega: X(\\omega) = 5\\}.\\ \\text{What is}\\ P(E)?\\\\\n",
    "\\ \\ \\ \\ P(E) = \\frac{1+1}{4}= \\frac{1}{2}\\\\\n",
    "$"
   ]
  },
  {
   "cell_type": "markdown",
   "metadata": {},
   "source": [
    "$\n",
    "\\bullet \\text{In general,}\\ P(X\\in \\chi) = 1\\ \\text{since $\\chi$ is the range of $X$.}\\\\ \\ \\\\\n",
    "\\bullet \\text{A r.v. is called}\\ \\textbf{discrete}\\ \\text{if there exists a}\\ \\textbf{finite or countably infinite}\\ \\text{set of real numbers {$x_1,x_2,...$} such that $P\\{X\\in \\{x_1,x_2,...\\}\\} = 1$.}\\\\ \\ \\\\\n",
    "\\bullet \\text{The}\\ \\textbf{probability mass function}\\ \\text{(pmf) of a discrete r.v. $X$ is the function}\\\\\n",
    "\\ \\ \\ \\ p_X(x) = P\\{X=x\\}.\\\\ \\ \\\\\n",
    "\\bullet \\text{Then for a subset of values}\\ A \\subseteq \\mathbb{R},\\ \\text{we have}\\ P\\{X\\in A\\} = \\sum_{x\\in A} p_X(x).\\\\ \\ \\\\\n",
    "\\bullet \\text{On a countably infinite probability space $(\\Omega,F,P)$ with $\\Omega = \\{\\omega_1,\\omega_2\\dots\\}$, a trivial discrete r.v. is given by:}\\\\\n",
    "\\ \\ \\ \\ X(\\omega_n) = n\\ \\Rightarrow\\ p_X(n) = P(\\{\\omega_n\\})\\\\ \\ \\\\\n",
    "\\bullet \\text{We can also consider two (or more) random variables $X$ and $Y$ over}\\ \\textbf{the same sample space}\\text{. The pmf is}\\\\\n",
    "\\ \\ \\ \\ p_{XY} = P\\{\\omega: X(\\omega) = x, Y(\\omega) = y\\}.\\ \\text{(Probability $X=x$}\\ \\textbf{and}\\ \\text{$Y=y$)}\\\\ \\ \\\\\n",
    "\\bullet \\text{For r.v.s $X$ and $Y$, any function $G: \\mathbb{R}\\times \\mathbb{R}\\rightarrow \\mathbb{R}$ generates a new random variable $G(X,Y)$ with pmf}\\\\\n",
    "\\ \\ \\ \\ p_G(g) = \\sum_{(x,y)\\in F^{-1}(g)} p_{XY} (x,y),\\ \\text{where $F^{-1}(g) = \\{(x,y):G(x,y)=g\\}$.}\\\\ \\ \\\\ \n",
    "\\textbf{Example 2:}\\\\\n",
    "\\text{Let S be the sum of the numbers showing on a pair of fair dice when they are rolled. Find the pmf of S.}\\\\\n",
    "X_1 =\\ \\text{r.v. for the first die}\\\\\n",
    "X_2 =\\ \\text{r.v. for the second die}\\\\\n",
    "P_{X_1,X_2}(x_1,x_2) = \\frac{1}{36}\\ \\text{for any $(x_1,x_2)$}\\\\\n",
    "S(X_1,X_2) = X_1+X_2\\rightarrow \\text{range of}\\ S=\\{2,3,4,5,6,7,8,9,10,11,12\\}\\\\\n",
    "p_S(2)=\\frac{1}{36},\\ p_S(3)=\\frac{2}{36},\\ p_S(4)=\\frac{3}{36},\\ p_S(5)=\\frac{5}{36},\\ p_S(6)=\\frac{6}{36},\\ p_S(7)=\\frac{7}{36}\\\\\n",
    "p_S(8)=\\frac{5}{36},\\ p_S(9)=\\frac{4}{36},\\ p_S(10)=\\frac{3}{36},\\ p_S(11)=\\frac{2}{36},\\ p_S(12)=\\frac{1}{36}\\\\\n",
    "$"
   ]
  },
  {
   "cell_type": "markdown",
   "metadata": {},
   "source": [
    "$\n",
    "\\textbf{Mean of a Random Variable}\\\\ \\ \\\\\n",
    "\\textbf{Definition:}\\\\\n",
    "\\text{The}\\ \\textbf{mean}\\ \\text{(also called}\\ \\textbf{expectation}\\text{) of a discrete random variable $X$ with pmf $p_X$ is denoted by $E[X]$ and is defined by}\\\\\n",
    "\\ \\ \\ \\ E[X] = \\sum_{x\\in \\chi} x\\cdot p_X (x),\\ \\text{where $\\chi$ is the range of $X$.}\\\\\n",
    "\\ \\ \\ \\ E[aX+b] = aE[X]+b\\\\ \\ \\\\\n",
    "\\textbf{Example 3:}\\\\\n",
    "\\text{What is the expected sum of two fair dice that are rolled?}\\\\\n",
    "E[S] = \\sum_{i} x_i p_S(x_i) = 7 = 3.5+3.5\\\\ \\ \\\\\n",
    "\\textbf{Example 4:}\\\\\n",
    "\\text{Let Y be the number of distinct numbers showing when three fair dice are rolled. What is $E[Y]$?}\\\\\n",
    "\\text{Range of Y}=\\{1,2,3\\}\\\\\n",
    "Y^{-1}(1)=\\{(1,1,1),\\ (2,2,2),\\ (3,3,3),\\ (4,4,4),\\ (5,5,5),\\ (6,6,6)\\}\\\\\n",
    "Y^{-1}(2)=\\{(1,1,2),\\ (1,1,3),\\ ...\\}\\\\\n",
    "Y^{-1}(3)=\\{(1,2,3),\\ (1,2,4),\\ ...\\}\\\\\n",
    "p_Y(1)=\\frac{6}{216}\\\\\n",
    "p_Y(2)=\\frac{90}{216}\\\\\n",
    "p_Y(3)=\\frac{120}{216}\\\\\n",
    "E[Y] = \\frac{6}{216}+2\\times \\frac{90}{216}+3\\times \\frac{120}{216}\n",
    "$"
   ]
  },
  {
   "cell_type": "markdown",
   "metadata": {},
   "source": [
    "$\n",
    "\\textbf{Law of Unconscious Statistician (LOTUS)}\\\\ \\ \\\\\n",
    "\\textbf{Theorem:}\\ \\text{If $G(X)$ is a function of r.v. $X$, then}\\\\\n",
    "\\ \\ \\ \\ E[G] = \\sum_{x\\in \\chi} G(x)p_X(x).\\\\\n",
    "\\text{Proof:}\\ E(G) = \\sum_{g\\in \\mathfrak{g}} g \\cdot p_G(g) = \\sum_{g\\in \\mathfrak{g}} g \\sum_{x\\in G^{-1}(g)} p_X(x) = \\sum_{x\\in \\chi} G(x)p_X(x).\\\\ \\ \\\\\n",
    "\\textbf{Corollary:}\\ \\text{If $Y(X)$ and $Z(X)$ are both functions of $X$ then}\\\\\n",
    "\\ \\ \\ \\ E[Y+Z] = E[Y] + E[Z].\\\\ \\ \\\\\n",
    "\\textbf{Expectation value is a linear function!}\\\\ \\ \\\\\n",
    "\\textbf{Example:}\\\\\n",
    "\\text{Two three-sided (fair) dice are rolled. Let $X_1$ and $X_2$ be r.v.s for their outcomes and let $S=X_1+X_2$.}\\\\\n",
    "\\text{Range of $S$ is {2,3,4,5,6}.}\\\\\n",
    "p_S(2) = \\frac{1}{9},\\ p_S(5) = \\frac{2}{9}\\\\\n",
    "p_S(3) = \\frac{2}{9},\\ p_S(6) = \\frac{1}{9}\\\\\n",
    "p_S(4) = \\frac{1}{3}\\\\\n",
    "\\bullet \\text{There are two ways to compute}\\ E[S]:\n",
    "\\begin{cases}\n",
    "\\text{Using pmf $p_S$, or}\\\\\n",
    "\\text{Using pmf $p_{X_1X_2}$} \\leftarrow \\text{(You don't need to compute $p_S$)}\\\\\n",
    "\\end{cases}\\\\\n",
    "E[S] = 2\\cdot \\frac{1}{9} + 3\\cdot \\frac{2}{9} + 4\\cdot \\frac{1}{3} + 5\\cdot \\frac{2}{9} + 6\\cdot \\frac{1}{9}\\\\\n",
    "\\ \\ \\ \\ \\ \\ \\ \\ = 2\\cdot p_{X_1X_2(1,1)}\\\\\n",
    "\\ \\ \\ \\ \\ \\ \\ \\ + 3\\cdot (p_{X_1X_2}(1,2)+p_{X_1X_2}(2,1))\\\\\n",
    "\\ \\ \\ \\ \\ \\ \\ \\ + 4\\cdot (p_{X_1X_2}(1,3)+p_{X_1X_2}(2,2)+p_{X_1X_2}(3,1))\\\\\n",
    "\\ \\ \\ \\ \\ \\ \\ \\ + 5\\cdot (p_{X_1X_2}(2,3)+p_{X_1X_2}(3,2))\\\\\n",
    "\\ \\ \\ \\ \\ \\ \\ \\ + 6\\cdot p_{X_1X_2}(3,3)\\\\\n",
    "$"
   ]
  }
 ],
 "metadata": {
  "kernelspec": {
   "display_name": "Python 3",
   "language": "python",
   "name": "python3"
  },
  "language_info": {
   "codemirror_mode": {
    "name": "ipython",
    "version": 3
   },
   "file_extension": ".py",
   "mimetype": "text/x-python",
   "name": "python",
   "nbconvert_exporter": "python",
   "pygments_lexer": "ipython3",
   "version": "3.7.3"
  }
 },
 "nbformat": 4,
 "nbformat_minor": 2
}
